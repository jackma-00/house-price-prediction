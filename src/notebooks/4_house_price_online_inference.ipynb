{
  "cells": [
    {
      "cell_type": "markdown",
      "source": [
        "<a target=\"_blank\" href=\"https://colab.research.google.com/github/jackma-00/house-price-prediction/blob/main/experiments/4_house_price_online_inference.ipynb\">\n",
        "  <img src=\"https://colab.research.google.com/assets/colab-badge.svg\" alt=\"Open In Colab\"/>\n",
        "</a>"
      ],
      "metadata": {
        "id": "x1a4Afqq2nr2"
      }
    },
    {
      "cell_type": "markdown",
      "source": [
        "# <span style=\"font-width:bold; font-size: 3rem; color:#333;\">Online Inference Pipeline</span>"
      ],
      "metadata": {
        "id": "eEIzV1E42vEx"
      }
    },
    {
      "cell_type": "markdown",
      "source": [
        "Installing packages"
      ],
      "metadata": {
        "id": "S1aF05m62z-Q"
      }
    },
    {
      "cell_type": "code",
      "source": [
        "!pip uninstall scikit-learn -y"
      ],
      "metadata": {
        "id": "-AqovT4UDBuK",
        "outputId": "86e6bc4a-6ee0-4e14-fb1b-ede916adf5cf",
        "colab": {
          "base_uri": "https://localhost:8080/"
        }
      },
      "execution_count": 56,
      "outputs": [
        {
          "output_type": "stream",
          "name": "stdout",
          "text": [
            "Found existing installation: scikit-learn 1.5.2\n",
            "Uninstalling scikit-learn-1.5.2:\n",
            "  Successfully uninstalled scikit-learn-1.5.2\n"
          ]
        }
      ]
    },
    {
      "cell_type": "code",
      "source": [
        "!pip install scikit-learn==1.5.2"
      ],
      "metadata": {
        "id": "hQou8cmODEYo",
        "outputId": "79e159f2-3a23-4cb4-d5f9-d5f41bf6344a",
        "colab": {
          "base_uri": "https://localhost:8080/"
        }
      },
      "execution_count": 57,
      "outputs": [
        {
          "output_type": "stream",
          "name": "stdout",
          "text": [
            "Collecting scikit-learn==1.5.2\n",
            "  Using cached scikit_learn-1.5.2-cp310-cp310-manylinux_2_17_x86_64.manylinux2014_x86_64.whl.metadata (13 kB)\n",
            "Requirement already satisfied: numpy>=1.19.5 in /usr/local/lib/python3.10/dist-packages (from scikit-learn==1.5.2) (1.26.4)\n",
            "Requirement already satisfied: scipy>=1.6.0 in /usr/local/lib/python3.10/dist-packages (from scikit-learn==1.5.2) (1.13.1)\n",
            "Requirement already satisfied: joblib>=1.2.0 in /usr/local/lib/python3.10/dist-packages (from scikit-learn==1.5.2) (1.4.2)\n",
            "Requirement already satisfied: threadpoolctl>=3.1.0 in /usr/local/lib/python3.10/dist-packages (from scikit-learn==1.5.2) (3.5.0)\n",
            "Using cached scikit_learn-1.5.2-cp310-cp310-manylinux_2_17_x86_64.manylinux2014_x86_64.whl (13.3 MB)\n",
            "Installing collected packages: scikit-learn\n",
            "Successfully installed scikit-learn-1.5.2\n"
          ]
        }
      ]
    },
    {
      "cell_type": "code",
      "source": [
        "!pip install xgboost==2.1.3"
      ],
      "metadata": {
        "id": "0EOAtCJeDKe1",
        "outputId": "55ca0138-385b-4940-ee4f-5745805a48cf",
        "colab": {
          "base_uri": "https://localhost:8080/"
        }
      },
      "execution_count": 58,
      "outputs": [
        {
          "output_type": "stream",
          "name": "stdout",
          "text": [
            "Requirement already satisfied: xgboost==2.1.3 in /usr/local/lib/python3.10/dist-packages (2.1.3)\n",
            "Requirement already satisfied: numpy in /usr/local/lib/python3.10/dist-packages (from xgboost==2.1.3) (1.26.4)\n",
            "Requirement already satisfied: nvidia-nccl-cu12 in /usr/local/lib/python3.10/dist-packages (from xgboost==2.1.3) (2.23.4)\n",
            "Requirement already satisfied: scipy in /usr/local/lib/python3.10/dist-packages (from xgboost==2.1.3) (1.13.1)\n"
          ]
        }
      ]
    },
    {
      "cell_type": "code",
      "execution_count": 59,
      "metadata": {
        "vscode": {
          "languageId": "plaintext"
        },
        "id": "rjGakwGY2fwJ",
        "outputId": "a00cd93a-6b95-40a6-ec4b-b58c2a908404",
        "colab": {
          "base_uri": "https://localhost:8080/"
        }
      },
      "outputs": [
        {
          "output_type": "stream",
          "name": "stdout",
          "text": [
            "Requirement already satisfied: hopsworks[python] in /usr/local/lib/python3.10/dist-packages (4.1.4)\n",
            "Requirement already satisfied: pyhumps==1.6.1 in /usr/local/lib/python3.10/dist-packages (from hopsworks[python]) (1.6.1)\n",
            "Requirement already satisfied: requests in /usr/local/lib/python3.10/dist-packages (from hopsworks[python]) (2.32.3)\n",
            "Requirement already satisfied: furl in /usr/local/lib/python3.10/dist-packages (from hopsworks[python]) (2.1.3)\n",
            "Requirement already satisfied: boto3 in /usr/local/lib/python3.10/dist-packages (from hopsworks[python]) (1.35.85)\n",
            "Requirement already satisfied: pandas<2.2.0 in /usr/local/lib/python3.10/dist-packages (from hopsworks[python]) (2.1.4)\n",
            "Requirement already satisfied: pyjks in /usr/local/lib/python3.10/dist-packages (from hopsworks[python]) (20.0.0)\n",
            "Requirement already satisfied: mock in /usr/local/lib/python3.10/dist-packages (from hopsworks[python]) (5.1.0)\n",
            "Requirement already satisfied: avro==1.11.3 in /usr/local/lib/python3.10/dist-packages (from hopsworks[python]) (1.11.3)\n",
            "Requirement already satisfied: sqlalchemy in /usr/local/lib/python3.10/dist-packages (from hopsworks[python]) (2.0.29)\n",
            "Requirement already satisfied: PyMySQL[rsa] in /usr/local/lib/python3.10/dist-packages (from hopsworks[python]) (1.1.1)\n",
            "Requirement already satisfied: tzlocal in /usr/local/lib/python3.10/dist-packages (from hopsworks[python]) (5.2)\n",
            "Requirement already satisfied: fsspec in /usr/local/lib/python3.10/dist-packages (from hopsworks[python]) (2024.10.0)\n",
            "Requirement already satisfied: retrying in /usr/local/lib/python3.10/dist-packages (from hopsworks[python]) (1.3.4)\n",
            "Requirement already satisfied: hopsworks_aiomysql==0.2.1 in /usr/local/lib/python3.10/dist-packages (from hopsworks_aiomysql[sa]==0.2.1->hopsworks[python]) (0.2.1)\n",
            "Requirement already satisfied: opensearch-py<=2.4.2,>=1.1.0 in /usr/local/lib/python3.10/dist-packages (from hopsworks[python]) (2.4.2)\n",
            "Requirement already satisfied: tqdm in /usr/local/lib/python3.10/dist-packages (from hopsworks[python]) (4.67.1)\n",
            "Requirement already satisfied: grpcio<2.0.0,>=1.49.1 in /usr/local/lib/python3.10/dist-packages (from hopsworks[python]) (1.68.1)\n",
            "Requirement already satisfied: protobuf<5.0.0,>=4.25.4 in /usr/local/lib/python3.10/dist-packages (from hopsworks[python]) (4.25.5)\n",
            "Requirement already satisfied: numpy<2 in /usr/local/lib/python3.10/dist-packages (from hopsworks[python]) (1.26.4)\n",
            "Requirement already satisfied: pyarrow>=10.0 in /usr/local/lib/python3.10/dist-packages (from hopsworks[python]) (17.0.0)\n",
            "Requirement already satisfied: confluent-kafka<=2.3.0 in /usr/local/lib/python3.10/dist-packages (from hopsworks[python]) (2.3.0)\n",
            "Requirement already satisfied: fastavro<=1.8.4,>=1.4.11 in /usr/local/lib/python3.10/dist-packages (from hopsworks[python]) (1.8.4)\n",
            "Requirement already satisfied: urllib3>=1.26.18 in /usr/local/lib/python3.10/dist-packages (from opensearch-py<=2.4.2,>=1.1.0->hopsworks[python]) (2.2.3)\n",
            "Requirement already satisfied: six in /usr/local/lib/python3.10/dist-packages (from opensearch-py<=2.4.2,>=1.1.0->hopsworks[python]) (1.17.0)\n",
            "Requirement already satisfied: python-dateutil in /usr/local/lib/python3.10/dist-packages (from opensearch-py<=2.4.2,>=1.1.0->hopsworks[python]) (2.8.2)\n",
            "Requirement already satisfied: certifi>=2022.12.07 in /usr/local/lib/python3.10/dist-packages (from opensearch-py<=2.4.2,>=1.1.0->hopsworks[python]) (2024.12.14)\n",
            "Requirement already satisfied: pytz>=2020.1 in /usr/local/lib/python3.10/dist-packages (from pandas<2.2.0->hopsworks[python]) (2024.2)\n",
            "Requirement already satisfied: tzdata>=2022.1 in /usr/local/lib/python3.10/dist-packages (from pandas<2.2.0->hopsworks[python]) (2024.2)\n",
            "Requirement already satisfied: charset-normalizer<4,>=2 in /usr/local/lib/python3.10/dist-packages (from requests->hopsworks[python]) (3.4.0)\n",
            "Requirement already satisfied: idna<4,>=2.5 in /usr/local/lib/python3.10/dist-packages (from requests->hopsworks[python]) (3.10)\n",
            "Requirement already satisfied: typing-extensions>=4.6.0 in /usr/local/lib/python3.10/dist-packages (from sqlalchemy->hopsworks[python]) (4.12.2)\n",
            "Requirement already satisfied: greenlet!=0.4.17 in /usr/local/lib/python3.10/dist-packages (from sqlalchemy->hopsworks[python]) (3.1.1)\n",
            "Requirement already satisfied: botocore<1.36.0,>=1.35.85 in /usr/local/lib/python3.10/dist-packages (from boto3->hopsworks[python]) (1.35.85)\n",
            "Requirement already satisfied: jmespath<2.0.0,>=0.7.1 in /usr/local/lib/python3.10/dist-packages (from boto3->hopsworks[python]) (1.0.1)\n",
            "Requirement already satisfied: s3transfer<0.11.0,>=0.10.0 in /usr/local/lib/python3.10/dist-packages (from boto3->hopsworks[python]) (0.10.4)\n",
            "Requirement already satisfied: orderedmultidict>=1.0.1 in /usr/local/lib/python3.10/dist-packages (from furl->hopsworks[python]) (1.0.1)\n",
            "Requirement already satisfied: javaobj-py3 in /usr/local/lib/python3.10/dist-packages (from pyjks->hopsworks[python]) (0.4.4)\n",
            "Requirement already satisfied: pyasn1>=0.3.5 in /usr/local/lib/python3.10/dist-packages (from pyjks->hopsworks[python]) (0.6.1)\n",
            "Requirement already satisfied: pyasn1-modules in /usr/local/lib/python3.10/dist-packages (from pyjks->hopsworks[python]) (0.4.1)\n",
            "Requirement already satisfied: pycryptodomex in /usr/local/lib/python3.10/dist-packages (from pyjks->hopsworks[python]) (3.21.0)\n",
            "Requirement already satisfied: twofish in /usr/local/lib/python3.10/dist-packages (from pyjks->hopsworks[python]) (0.3.0)\n",
            "Requirement already satisfied: cryptography in /usr/local/lib/python3.10/dist-packages (from PyMySQL[rsa]->hopsworks[python]) (43.0.3)\n",
            "Requirement already satisfied: cffi>=1.12 in /usr/local/lib/python3.10/dist-packages (from cryptography->PyMySQL[rsa]->hopsworks[python]) (1.17.1)\n",
            "Requirement already satisfied: pycparser in /usr/local/lib/python3.10/dist-packages (from cffi>=1.12->cryptography->PyMySQL[rsa]->hopsworks[python]) (2.22)\n"
          ]
        }
      ],
      "source": [
        "!pip install hopsworks[python]"
      ]
    },
    {
      "cell_type": "markdown",
      "source": [
        "### <span style='color:#ff5f27'> Imports"
      ],
      "metadata": {
        "id": "2BZ0oS_l23Ih"
      }
    },
    {
      "cell_type": "code",
      "source": [
        "from xgboost import XGBRegressor\n",
        "from datetime import datetime\n",
        "import pandas as pd\n",
        "import numpy as np\n",
        "import hopsworks\n",
        "import uuid\n",
        "import os\n",
        "\n",
        "import warnings\n",
        "warnings.filterwarnings(\"ignore\")"
      ],
      "metadata": {
        "id": "7E61bftx3LK_"
      },
      "execution_count": 60,
      "outputs": []
    },
    {
      "cell_type": "markdown",
      "source": [
        "Hopsworks API Key"
      ],
      "metadata": {
        "id": "Hjr1h_Ln3eCD"
      }
    },
    {
      "cell_type": "code",
      "source": [
        "# If you haven't set the env variable 'HOPSWORKS_API_KEY', then uncomment the next line and enter your API key\n",
        "os.environ[\"HOPSWORKS_API_KEY\"] = \"DMT7cBmSbXxvrmlm.SGi5E7zfqXqjsMJWWgiJFpiMlQep8mMiP5hAlvVCIVBXw5nCOzV67kVhGxIua122\""
      ],
      "metadata": {
        "id": "Uy9_n88GArZI"
      },
      "execution_count": 61,
      "outputs": []
    },
    {
      "cell_type": "code",
      "source": [
        "proj = hopsworks.login()\n",
        "fs = proj.get_feature_store()\n",
        "mr = proj.get_model_registry()"
      ],
      "metadata": {
        "id": "NZ5AMSmT4EaH",
        "outputId": "0651914f-aa10-47da-fc5b-bb38759e19c6",
        "colab": {
          "base_uri": "https://localhost:8080/"
        }
      },
      "execution_count": null,
      "outputs": [
        {
          "output_type": "stream",
          "name": "stdout",
          "text": [
            "\n",
            "Logged in to project, explore it here https://c.app.hopsworks.ai:443/p/1158295\n"
          ]
        }
      ]
    },
    {
      "cell_type": "markdown",
      "source": [
        "## <a class=\"anchor\" id=\"1.5_bullet\" style=\"color:#ff5f27\">Testing Inference</a>"
      ],
      "metadata": {
        "id": "2j5f9tEoUhjv"
      }
    },
    {
      "cell_type": "markdown",
      "source": [
        "### <span style='color:#ff5f27'> Download the model from the model registry"
      ],
      "metadata": {
        "id": "kIa3ASDt3kfE"
      }
    },
    {
      "cell_type": "code",
      "source": [
        "retrieved_model = mr.get_model(\n",
        "    name=\"house_price_xgboost_model\",\n",
        "    version=16,                        # Latest version\n",
        ")\n",
        "\n",
        "# Download the saved model artifacts to a local directory\n",
        "saved_model_dir = retrieved_model.download()"
      ],
      "metadata": {
        "id": "wx8gUs-W4WGy",
        "outputId": "1f1433fe-4127-4590-b17f-7000d23cb98b",
        "colab": {
          "base_uri": "https://localhost:8080/"
        }
      },
      "execution_count": 66,
      "outputs": [
        {
          "output_type": "stream",
          "name": "stdout",
          "text": []
        }
      ]
    },
    {
      "cell_type": "code",
      "source": [
        "# Loading the XGBoost regressor model from the saved model directory\n",
        "# retrieved_xgboost_model = joblib.load(saved_model_dir + \"/xgboost_regressor.pkl\")\n",
        "retrieved_xgboost_model = XGBRegressor()\n",
        "\n",
        "retrieved_xgboost_model.load_model(saved_model_dir + \"/model.json\")\n",
        "\n",
        "# Displaying the retrieved XGBoost regressor model\n",
        "retrieved_xgboost_model"
      ],
      "metadata": {
        "id": "opGyWryT5KIF",
        "outputId": "cbff27a5-0d44-4152-9fe8-1d46308e06a6",
        "colab": {
          "base_uri": "https://localhost:8080/",
          "height": 257
        }
      },
      "execution_count": null,
      "outputs": [
        {
          "output_type": "execute_result",
          "data": {
            "text/plain": [
              "XGBRegressor(base_score='3.3344125E5', booster='gbtree', callbacks=None,\n",
              "             colsample_bylevel=None, colsample_bynode=None,\n",
              "             colsample_bytree=None, device=None, early_stopping_rounds=None,\n",
              "             enable_categorical=False, eval_metric=None,\n",
              "             feature_types=['float', 'float', 'float', 'float', 'float', 'int',\n",
              "                            'float', 'float', 'int', 'int', 'int', 'int',\n",
              "                            'float', 'float', 'int', 'int', 'in...\n",
              "             gamma=None, grow_policy=None, importance_type=None,\n",
              "             interaction_constraints=None, learning_rate=None, max_bin=None,\n",
              "             max_cat_threshold=None, max_cat_to_onehot=None,\n",
              "             max_delta_step=None, max_depth=None, max_leaves=None,\n",
              "             min_child_weight=None, missing=nan, monotone_constraints=None,\n",
              "             multi_strategy=None, n_estimators=None, n_jobs=None,\n",
              "             num_parallel_tree=None, random_state=None, ...)"
            ],
            "text/html": [
              "<style>#sk-container-id-1 {\n",
              "  /* Definition of color scheme common for light and dark mode */\n",
              "  --sklearn-color-text: black;\n",
              "  --sklearn-color-line: gray;\n",
              "  /* Definition of color scheme for unfitted estimators */\n",
              "  --sklearn-color-unfitted-level-0: #fff5e6;\n",
              "  --sklearn-color-unfitted-level-1: #f6e4d2;\n",
              "  --sklearn-color-unfitted-level-2: #ffe0b3;\n",
              "  --sklearn-color-unfitted-level-3: chocolate;\n",
              "  /* Definition of color scheme for fitted estimators */\n",
              "  --sklearn-color-fitted-level-0: #f0f8ff;\n",
              "  --sklearn-color-fitted-level-1: #d4ebff;\n",
              "  --sklearn-color-fitted-level-2: #b3dbfd;\n",
              "  --sklearn-color-fitted-level-3: cornflowerblue;\n",
              "\n",
              "  /* Specific color for light theme */\n",
              "  --sklearn-color-text-on-default-background: var(--sg-text-color, var(--theme-code-foreground, var(--jp-content-font-color1, black)));\n",
              "  --sklearn-color-background: var(--sg-background-color, var(--theme-background, var(--jp-layout-color0, white)));\n",
              "  --sklearn-color-border-box: var(--sg-text-color, var(--theme-code-foreground, var(--jp-content-font-color1, black)));\n",
              "  --sklearn-color-icon: #696969;\n",
              "\n",
              "  @media (prefers-color-scheme: dark) {\n",
              "    /* Redefinition of color scheme for dark theme */\n",
              "    --sklearn-color-text-on-default-background: var(--sg-text-color, var(--theme-code-foreground, var(--jp-content-font-color1, white)));\n",
              "    --sklearn-color-background: var(--sg-background-color, var(--theme-background, var(--jp-layout-color0, #111)));\n",
              "    --sklearn-color-border-box: var(--sg-text-color, var(--theme-code-foreground, var(--jp-content-font-color1, white)));\n",
              "    --sklearn-color-icon: #878787;\n",
              "  }\n",
              "}\n",
              "\n",
              "#sk-container-id-1 {\n",
              "  color: var(--sklearn-color-text);\n",
              "}\n",
              "\n",
              "#sk-container-id-1 pre {\n",
              "  padding: 0;\n",
              "}\n",
              "\n",
              "#sk-container-id-1 input.sk-hidden--visually {\n",
              "  border: 0;\n",
              "  clip: rect(1px 1px 1px 1px);\n",
              "  clip: rect(1px, 1px, 1px, 1px);\n",
              "  height: 1px;\n",
              "  margin: -1px;\n",
              "  overflow: hidden;\n",
              "  padding: 0;\n",
              "  position: absolute;\n",
              "  width: 1px;\n",
              "}\n",
              "\n",
              "#sk-container-id-1 div.sk-dashed-wrapped {\n",
              "  border: 1px dashed var(--sklearn-color-line);\n",
              "  margin: 0 0.4em 0.5em 0.4em;\n",
              "  box-sizing: border-box;\n",
              "  padding-bottom: 0.4em;\n",
              "  background-color: var(--sklearn-color-background);\n",
              "}\n",
              "\n",
              "#sk-container-id-1 div.sk-container {\n",
              "  /* jupyter's `normalize.less` sets `[hidden] { display: none; }`\n",
              "     but bootstrap.min.css set `[hidden] { display: none !important; }`\n",
              "     so we also need the `!important` here to be able to override the\n",
              "     default hidden behavior on the sphinx rendered scikit-learn.org.\n",
              "     See: https://github.com/scikit-learn/scikit-learn/issues/21755 */\n",
              "  display: inline-block !important;\n",
              "  position: relative;\n",
              "}\n",
              "\n",
              "#sk-container-id-1 div.sk-text-repr-fallback {\n",
              "  display: none;\n",
              "}\n",
              "\n",
              "div.sk-parallel-item,\n",
              "div.sk-serial,\n",
              "div.sk-item {\n",
              "  /* draw centered vertical line to link estimators */\n",
              "  background-image: linear-gradient(var(--sklearn-color-text-on-default-background), var(--sklearn-color-text-on-default-background));\n",
              "  background-size: 2px 100%;\n",
              "  background-repeat: no-repeat;\n",
              "  background-position: center center;\n",
              "}\n",
              "\n",
              "/* Parallel-specific style estimator block */\n",
              "\n",
              "#sk-container-id-1 div.sk-parallel-item::after {\n",
              "  content: \"\";\n",
              "  width: 100%;\n",
              "  border-bottom: 2px solid var(--sklearn-color-text-on-default-background);\n",
              "  flex-grow: 1;\n",
              "}\n",
              "\n",
              "#sk-container-id-1 div.sk-parallel {\n",
              "  display: flex;\n",
              "  align-items: stretch;\n",
              "  justify-content: center;\n",
              "  background-color: var(--sklearn-color-background);\n",
              "  position: relative;\n",
              "}\n",
              "\n",
              "#sk-container-id-1 div.sk-parallel-item {\n",
              "  display: flex;\n",
              "  flex-direction: column;\n",
              "}\n",
              "\n",
              "#sk-container-id-1 div.sk-parallel-item:first-child::after {\n",
              "  align-self: flex-end;\n",
              "  width: 50%;\n",
              "}\n",
              "\n",
              "#sk-container-id-1 div.sk-parallel-item:last-child::after {\n",
              "  align-self: flex-start;\n",
              "  width: 50%;\n",
              "}\n",
              "\n",
              "#sk-container-id-1 div.sk-parallel-item:only-child::after {\n",
              "  width: 0;\n",
              "}\n",
              "\n",
              "/* Serial-specific style estimator block */\n",
              "\n",
              "#sk-container-id-1 div.sk-serial {\n",
              "  display: flex;\n",
              "  flex-direction: column;\n",
              "  align-items: center;\n",
              "  background-color: var(--sklearn-color-background);\n",
              "  padding-right: 1em;\n",
              "  padding-left: 1em;\n",
              "}\n",
              "\n",
              "\n",
              "/* Toggleable style: style used for estimator/Pipeline/ColumnTransformer box that is\n",
              "clickable and can be expanded/collapsed.\n",
              "- Pipeline and ColumnTransformer use this feature and define the default style\n",
              "- Estimators will overwrite some part of the style using the `sk-estimator` class\n",
              "*/\n",
              "\n",
              "/* Pipeline and ColumnTransformer style (default) */\n",
              "\n",
              "#sk-container-id-1 div.sk-toggleable {\n",
              "  /* Default theme specific background. It is overwritten whether we have a\n",
              "  specific estimator or a Pipeline/ColumnTransformer */\n",
              "  background-color: var(--sklearn-color-background);\n",
              "}\n",
              "\n",
              "/* Toggleable label */\n",
              "#sk-container-id-1 label.sk-toggleable__label {\n",
              "  cursor: pointer;\n",
              "  display: block;\n",
              "  width: 100%;\n",
              "  margin-bottom: 0;\n",
              "  padding: 0.5em;\n",
              "  box-sizing: border-box;\n",
              "  text-align: center;\n",
              "}\n",
              "\n",
              "#sk-container-id-1 label.sk-toggleable__label-arrow:before {\n",
              "  /* Arrow on the left of the label */\n",
              "  content: \"▸\";\n",
              "  float: left;\n",
              "  margin-right: 0.25em;\n",
              "  color: var(--sklearn-color-icon);\n",
              "}\n",
              "\n",
              "#sk-container-id-1 label.sk-toggleable__label-arrow:hover:before {\n",
              "  color: var(--sklearn-color-text);\n",
              "}\n",
              "\n",
              "/* Toggleable content - dropdown */\n",
              "\n",
              "#sk-container-id-1 div.sk-toggleable__content {\n",
              "  max-height: 0;\n",
              "  max-width: 0;\n",
              "  overflow: hidden;\n",
              "  text-align: left;\n",
              "  /* unfitted */\n",
              "  background-color: var(--sklearn-color-unfitted-level-0);\n",
              "}\n",
              "\n",
              "#sk-container-id-1 div.sk-toggleable__content.fitted {\n",
              "  /* fitted */\n",
              "  background-color: var(--sklearn-color-fitted-level-0);\n",
              "}\n",
              "\n",
              "#sk-container-id-1 div.sk-toggleable__content pre {\n",
              "  margin: 0.2em;\n",
              "  border-radius: 0.25em;\n",
              "  color: var(--sklearn-color-text);\n",
              "  /* unfitted */\n",
              "  background-color: var(--sklearn-color-unfitted-level-0);\n",
              "}\n",
              "\n",
              "#sk-container-id-1 div.sk-toggleable__content.fitted pre {\n",
              "  /* unfitted */\n",
              "  background-color: var(--sklearn-color-fitted-level-0);\n",
              "}\n",
              "\n",
              "#sk-container-id-1 input.sk-toggleable__control:checked~div.sk-toggleable__content {\n",
              "  /* Expand drop-down */\n",
              "  max-height: 200px;\n",
              "  max-width: 100%;\n",
              "  overflow: auto;\n",
              "}\n",
              "\n",
              "#sk-container-id-1 input.sk-toggleable__control:checked~label.sk-toggleable__label-arrow:before {\n",
              "  content: \"▾\";\n",
              "}\n",
              "\n",
              "/* Pipeline/ColumnTransformer-specific style */\n",
              "\n",
              "#sk-container-id-1 div.sk-label input.sk-toggleable__control:checked~label.sk-toggleable__label {\n",
              "  color: var(--sklearn-color-text);\n",
              "  background-color: var(--sklearn-color-unfitted-level-2);\n",
              "}\n",
              "\n",
              "#sk-container-id-1 div.sk-label.fitted input.sk-toggleable__control:checked~label.sk-toggleable__label {\n",
              "  background-color: var(--sklearn-color-fitted-level-2);\n",
              "}\n",
              "\n",
              "/* Estimator-specific style */\n",
              "\n",
              "/* Colorize estimator box */\n",
              "#sk-container-id-1 div.sk-estimator input.sk-toggleable__control:checked~label.sk-toggleable__label {\n",
              "  /* unfitted */\n",
              "  background-color: var(--sklearn-color-unfitted-level-2);\n",
              "}\n",
              "\n",
              "#sk-container-id-1 div.sk-estimator.fitted input.sk-toggleable__control:checked~label.sk-toggleable__label {\n",
              "  /* fitted */\n",
              "  background-color: var(--sklearn-color-fitted-level-2);\n",
              "}\n",
              "\n",
              "#sk-container-id-1 div.sk-label label.sk-toggleable__label,\n",
              "#sk-container-id-1 div.sk-label label {\n",
              "  /* The background is the default theme color */\n",
              "  color: var(--sklearn-color-text-on-default-background);\n",
              "}\n",
              "\n",
              "/* On hover, darken the color of the background */\n",
              "#sk-container-id-1 div.sk-label:hover label.sk-toggleable__label {\n",
              "  color: var(--sklearn-color-text);\n",
              "  background-color: var(--sklearn-color-unfitted-level-2);\n",
              "}\n",
              "\n",
              "/* Label box, darken color on hover, fitted */\n",
              "#sk-container-id-1 div.sk-label.fitted:hover label.sk-toggleable__label.fitted {\n",
              "  color: var(--sklearn-color-text);\n",
              "  background-color: var(--sklearn-color-fitted-level-2);\n",
              "}\n",
              "\n",
              "/* Estimator label */\n",
              "\n",
              "#sk-container-id-1 div.sk-label label {\n",
              "  font-family: monospace;\n",
              "  font-weight: bold;\n",
              "  display: inline-block;\n",
              "  line-height: 1.2em;\n",
              "}\n",
              "\n",
              "#sk-container-id-1 div.sk-label-container {\n",
              "  text-align: center;\n",
              "}\n",
              "\n",
              "/* Estimator-specific */\n",
              "#sk-container-id-1 div.sk-estimator {\n",
              "  font-family: monospace;\n",
              "  border: 1px dotted var(--sklearn-color-border-box);\n",
              "  border-radius: 0.25em;\n",
              "  box-sizing: border-box;\n",
              "  margin-bottom: 0.5em;\n",
              "  /* unfitted */\n",
              "  background-color: var(--sklearn-color-unfitted-level-0);\n",
              "}\n",
              "\n",
              "#sk-container-id-1 div.sk-estimator.fitted {\n",
              "  /* fitted */\n",
              "  background-color: var(--sklearn-color-fitted-level-0);\n",
              "}\n",
              "\n",
              "/* on hover */\n",
              "#sk-container-id-1 div.sk-estimator:hover {\n",
              "  /* unfitted */\n",
              "  background-color: var(--sklearn-color-unfitted-level-2);\n",
              "}\n",
              "\n",
              "#sk-container-id-1 div.sk-estimator.fitted:hover {\n",
              "  /* fitted */\n",
              "  background-color: var(--sklearn-color-fitted-level-2);\n",
              "}\n",
              "\n",
              "/* Specification for estimator info (e.g. \"i\" and \"?\") */\n",
              "\n",
              "/* Common style for \"i\" and \"?\" */\n",
              "\n",
              ".sk-estimator-doc-link,\n",
              "a:link.sk-estimator-doc-link,\n",
              "a:visited.sk-estimator-doc-link {\n",
              "  float: right;\n",
              "  font-size: smaller;\n",
              "  line-height: 1em;\n",
              "  font-family: monospace;\n",
              "  background-color: var(--sklearn-color-background);\n",
              "  border-radius: 1em;\n",
              "  height: 1em;\n",
              "  width: 1em;\n",
              "  text-decoration: none !important;\n",
              "  margin-left: 1ex;\n",
              "  /* unfitted */\n",
              "  border: var(--sklearn-color-unfitted-level-1) 1pt solid;\n",
              "  color: var(--sklearn-color-unfitted-level-1);\n",
              "}\n",
              "\n",
              ".sk-estimator-doc-link.fitted,\n",
              "a:link.sk-estimator-doc-link.fitted,\n",
              "a:visited.sk-estimator-doc-link.fitted {\n",
              "  /* fitted */\n",
              "  border: var(--sklearn-color-fitted-level-1) 1pt solid;\n",
              "  color: var(--sklearn-color-fitted-level-1);\n",
              "}\n",
              "\n",
              "/* On hover */\n",
              "div.sk-estimator:hover .sk-estimator-doc-link:hover,\n",
              ".sk-estimator-doc-link:hover,\n",
              "div.sk-label-container:hover .sk-estimator-doc-link:hover,\n",
              ".sk-estimator-doc-link:hover {\n",
              "  /* unfitted */\n",
              "  background-color: var(--sklearn-color-unfitted-level-3);\n",
              "  color: var(--sklearn-color-background);\n",
              "  text-decoration: none;\n",
              "}\n",
              "\n",
              "div.sk-estimator.fitted:hover .sk-estimator-doc-link.fitted:hover,\n",
              ".sk-estimator-doc-link.fitted:hover,\n",
              "div.sk-label-container:hover .sk-estimator-doc-link.fitted:hover,\n",
              ".sk-estimator-doc-link.fitted:hover {\n",
              "  /* fitted */\n",
              "  background-color: var(--sklearn-color-fitted-level-3);\n",
              "  color: var(--sklearn-color-background);\n",
              "  text-decoration: none;\n",
              "}\n",
              "\n",
              "/* Span, style for the box shown on hovering the info icon */\n",
              ".sk-estimator-doc-link span {\n",
              "  display: none;\n",
              "  z-index: 9999;\n",
              "  position: relative;\n",
              "  font-weight: normal;\n",
              "  right: .2ex;\n",
              "  padding: .5ex;\n",
              "  margin: .5ex;\n",
              "  width: min-content;\n",
              "  min-width: 20ex;\n",
              "  max-width: 50ex;\n",
              "  color: var(--sklearn-color-text);\n",
              "  box-shadow: 2pt 2pt 4pt #999;\n",
              "  /* unfitted */\n",
              "  background: var(--sklearn-color-unfitted-level-0);\n",
              "  border: .5pt solid var(--sklearn-color-unfitted-level-3);\n",
              "}\n",
              "\n",
              ".sk-estimator-doc-link.fitted span {\n",
              "  /* fitted */\n",
              "  background: var(--sklearn-color-fitted-level-0);\n",
              "  border: var(--sklearn-color-fitted-level-3);\n",
              "}\n",
              "\n",
              ".sk-estimator-doc-link:hover span {\n",
              "  display: block;\n",
              "}\n",
              "\n",
              "/* \"?\"-specific style due to the `<a>` HTML tag */\n",
              "\n",
              "#sk-container-id-1 a.estimator_doc_link {\n",
              "  float: right;\n",
              "  font-size: 1rem;\n",
              "  line-height: 1em;\n",
              "  font-family: monospace;\n",
              "  background-color: var(--sklearn-color-background);\n",
              "  border-radius: 1rem;\n",
              "  height: 1rem;\n",
              "  width: 1rem;\n",
              "  text-decoration: none;\n",
              "  /* unfitted */\n",
              "  color: var(--sklearn-color-unfitted-level-1);\n",
              "  border: var(--sklearn-color-unfitted-level-1) 1pt solid;\n",
              "}\n",
              "\n",
              "#sk-container-id-1 a.estimator_doc_link.fitted {\n",
              "  /* fitted */\n",
              "  border: var(--sklearn-color-fitted-level-1) 1pt solid;\n",
              "  color: var(--sklearn-color-fitted-level-1);\n",
              "}\n",
              "\n",
              "/* On hover */\n",
              "#sk-container-id-1 a.estimator_doc_link:hover {\n",
              "  /* unfitted */\n",
              "  background-color: var(--sklearn-color-unfitted-level-3);\n",
              "  color: var(--sklearn-color-background);\n",
              "  text-decoration: none;\n",
              "}\n",
              "\n",
              "#sk-container-id-1 a.estimator_doc_link.fitted:hover {\n",
              "  /* fitted */\n",
              "  background-color: var(--sklearn-color-fitted-level-3);\n",
              "}\n",
              "</style><div id=\"sk-container-id-1\" class=\"sk-top-container\"><div class=\"sk-text-repr-fallback\"><pre>XGBRegressor(base_score=&#x27;3.3344125E5&#x27;, booster=&#x27;gbtree&#x27;, callbacks=None,\n",
              "             colsample_bylevel=None, colsample_bynode=None,\n",
              "             colsample_bytree=None, device=None, early_stopping_rounds=None,\n",
              "             enable_categorical=False, eval_metric=None,\n",
              "             feature_types=[&#x27;float&#x27;, &#x27;float&#x27;, &#x27;float&#x27;, &#x27;float&#x27;, &#x27;float&#x27;, &#x27;int&#x27;,\n",
              "                            &#x27;float&#x27;, &#x27;float&#x27;, &#x27;int&#x27;, &#x27;int&#x27;, &#x27;int&#x27;, &#x27;int&#x27;,\n",
              "                            &#x27;float&#x27;, &#x27;float&#x27;, &#x27;int&#x27;, &#x27;int&#x27;, &#x27;in...\n",
              "             gamma=None, grow_policy=None, importance_type=None,\n",
              "             interaction_constraints=None, learning_rate=None, max_bin=None,\n",
              "             max_cat_threshold=None, max_cat_to_onehot=None,\n",
              "             max_delta_step=None, max_depth=None, max_leaves=None,\n",
              "             min_child_weight=None, missing=nan, monotone_constraints=None,\n",
              "             multi_strategy=None, n_estimators=None, n_jobs=None,\n",
              "             num_parallel_tree=None, random_state=None, ...)</pre><b>In a Jupyter environment, please rerun this cell to show the HTML representation or trust the notebook. <br />On GitHub, the HTML representation is unable to render, please try loading this page with nbviewer.org.</b></div><div class=\"sk-container\" hidden><div class=\"sk-item\"><div class=\"sk-estimator fitted sk-toggleable\"><input class=\"sk-toggleable__control sk-hidden--visually\" id=\"sk-estimator-id-1\" type=\"checkbox\" checked><label for=\"sk-estimator-id-1\" class=\"sk-toggleable__label fitted sk-toggleable__label-arrow fitted\">&nbsp;XGBRegressor<span class=\"sk-estimator-doc-link fitted\">i<span>Fitted</span></span></label><div class=\"sk-toggleable__content fitted\"><pre>XGBRegressor(base_score=&#x27;3.3344125E5&#x27;, booster=&#x27;gbtree&#x27;, callbacks=None,\n",
              "             colsample_bylevel=None, colsample_bynode=None,\n",
              "             colsample_bytree=None, device=None, early_stopping_rounds=None,\n",
              "             enable_categorical=False, eval_metric=None,\n",
              "             feature_types=[&#x27;float&#x27;, &#x27;float&#x27;, &#x27;float&#x27;, &#x27;float&#x27;, &#x27;float&#x27;, &#x27;int&#x27;,\n",
              "                            &#x27;float&#x27;, &#x27;float&#x27;, &#x27;int&#x27;, &#x27;int&#x27;, &#x27;int&#x27;, &#x27;int&#x27;,\n",
              "                            &#x27;float&#x27;, &#x27;float&#x27;, &#x27;int&#x27;, &#x27;int&#x27;, &#x27;in...\n",
              "             gamma=None, grow_policy=None, importance_type=None,\n",
              "             interaction_constraints=None, learning_rate=None, max_bin=None,\n",
              "             max_cat_threshold=None, max_cat_to_onehot=None,\n",
              "             max_delta_step=None, max_depth=None, max_leaves=None,\n",
              "             min_child_weight=None, missing=nan, monotone_constraints=None,\n",
              "             multi_strategy=None, n_estimators=None, n_jobs=None,\n",
              "             num_parallel_tree=None, random_state=None, ...)</pre></div> </div></div></div></div>"
            ]
          },
          "metadata": {},
          "execution_count": 9
        }
      ]
    },
    {
      "cell_type": "code",
      "source": [
        "# Get feature view\n",
        "feature_view = retrieved_model.get_feature_view()  # house_price_fv v5 attached to the model"
      ],
      "metadata": {
        "id": "dxguWcH_TySF"
      },
      "execution_count": null,
      "outputs": []
    },
    {
      "cell_type": "code",
      "source": [
        "feature_view.version"
      ],
      "metadata": {
        "id": "87GqiUKcr4k6",
        "outputId": "0e452ccb-7f63-4603-ecf5-39d7d49e3ca0",
        "colab": {
          "base_uri": "https://localhost:8080/"
        }
      },
      "execution_count": null,
      "outputs": [
        {
          "output_type": "execute_result",
          "data": {
            "text/plain": [
              "5"
            ]
          },
          "metadata": {},
          "execution_count": 11
        }
      ]
    },
    {
      "cell_type": "markdown",
      "source": [
        "### <span style='color:#ff5f27'> Get Inference data"
      ],
      "metadata": {
        "id": "YXOx32xM3t4D"
      }
    },
    {
      "cell_type": "code",
      "source": [
        "# Mock inference data\n",
        "inference_data = {\n",
        "    \"agencyid\": 169110.0,\n",
        "    \"bedroomsnumber\": 3.0,\n",
        "    \"buildingyear\": 2023.0,\n",
        "    \"codcom\": 26086.0,\n",
        "    \"gsm\": 181.0,\n",
        "    \"surface\": 253,\n",
        "    \"latitude\": 45.6674,\n",
        "    \"longitude\": 12.244,\n",
        "    \"isluxury\": 1,            # Changed to int\n",
        "    \"isnew\": 0,               # Changed to int\n",
        "    \"on_the_market\": 0,       # Changed to int\n",
        "    \"zeroenergybuilding\": 0,  # Changed to int\n",
        "    \"airconditioning\": \"autonomo, freddo\",\n",
        "    \"bathrooms\": \"3\",\n",
        "    \"city\": \"Treviso\",\n",
        "    \"condition\": \"Nuovo / In costruzione\",\n",
        "    \"energyclass\": \"A2\",\n",
        "    \"ga4heating\": \"Autonomo\",\n",
        "    \"garage\": \"1 in box privato/box in garage\",\n",
        "    \"heatingtype\": \"autonomo, a pavimento\",\n",
        "    \"pricerange\": \"oltre 500.000 &euro;\",\n",
        "    'id_zona_omi':\"F704-B11\",\n",
        "    \"rooms\": \"4\",\n",
        "}\n"
      ],
      "metadata": {
        "id": "SLTK_FIK5jf0"
      },
      "execution_count": 157,
      "outputs": []
    },
    {
      "cell_type": "code",
      "source": [
        "inference_data"
      ],
      "metadata": {
        "id": "1iBMWjyi7m5Q"
      },
      "execution_count": null,
      "outputs": []
    },
    {
      "cell_type": "code",
      "source": [
        "# Apply Model-dependent transformations to the inference data\n",
        "transformed_data = feature_view.get_feature_vector(\n",
        "    entry={'id_zona_omi': inference_data['id_zona_omi']},\n",
        "    passed_features=inference_data,\n",
        "    return_type=\"list\",\n",
        ")"
      ],
      "metadata": {
        "id": "6Ll-lVL7ULxW"
      },
      "execution_count": 158,
      "outputs": []
    },
    {
      "cell_type": "code",
      "source": [
        "transformed_data"
      ],
      "metadata": {
        "id": "CmOkCl3Ubots",
        "outputId": "ce74dcee-2fe0-45f5-ce97-303b4e6c7560",
        "colab": {
          "base_uri": "https://localhost:8080/"
        }
      },
      "execution_count": 86,
      "outputs": [
        {
          "output_type": "execute_result",
          "data": {
            "text/plain": [
              "[169110.0,\n",
              " 3.0,\n",
              " 2023.0,\n",
              " 26086.0,\n",
              " 181.0,\n",
              " 253,\n",
              " 45.6674,\n",
              " 12.244,\n",
              " 1,\n",
              " 0,\n",
              " 0,\n",
              " 0,\n",
              " 1915.0,\n",
              " 2663.0,\n",
              " 4,\n",
              " 3,\n",
              " 87,\n",
              " 2,\n",
              " 0,\n",
              " 3,\n",
              " 0,\n",
              " 0,\n",
              " 1,\n",
              " 539,\n",
              " 5,\n",
              " 4,\n",
              " 0,\n",
              " 0]"
            ]
          },
          "metadata": {},
          "execution_count": 86
        }
      ]
    },
    {
      "cell_type": "markdown",
      "source": [
        "### <span style='color:#ff5f27'> Making the predictions"
      ],
      "metadata": {
        "id": "rSo5n_7j3x2y"
      }
    },
    {
      "cell_type": "code",
      "source": [
        "predicted_price = retrieved_xgboost_model.predict(np.asarray(transformed_data).reshape(1, -1)).tolist()"
      ],
      "metadata": {
        "id": "srabyLPwB4QY"
      },
      "execution_count": 106,
      "outputs": []
    },
    {
      "cell_type": "code",
      "source": [
        "predicted_price"
      ],
      "metadata": {
        "id": "u7g-ilo7a1pG",
        "outputId": "b5c23d12-ff0e-40ec-91e0-6f5a395d7918",
        "colab": {
          "base_uri": "https://localhost:8080/"
        }
      },
      "execution_count": 107,
      "outputs": [
        {
          "output_type": "execute_result",
          "data": {
            "text/plain": [
              "[1426200.5]"
            ]
          },
          "metadata": {},
          "execution_count": 107
        }
      ]
    },
    {
      "cell_type": "markdown",
      "source": [
        "### <span style='color:#ff5f27'> Saving the predictions (for monitoring) to a feature group"
      ],
      "metadata": {
        "id": "0o0lb4zv36Ih"
      }
    },
    {
      "cell_type": "code",
      "source": [
        "# Update price with actual predicted price\n",
        "inference_data[\"price\"] = predicted_price"
      ],
      "metadata": {
        "id": "rNuvRPPETkCu"
      },
      "execution_count": null,
      "outputs": []
    },
    {
      "cell_type": "code",
      "source": [
        "# Incorporate uuid\n",
        "def generate_numeric_uuid():\n",
        "    # Generate a UUID and extract its integer form\n",
        "    raw_uuid = uuid.uuid4()\n",
        "    numeric_uuid = str(raw_uuid.int)[:9]  # Take the first 9 digits\n",
        "    return int(numeric_uuid)\n",
        "\n",
        "# Generate the numeric UUID\n",
        "genrated_uuid = generate_numeric_uuid()\n",
        "\n",
        "inference_data[\"id\"] = genrated_uuid"
      ],
      "metadata": {
        "id": "6Qs-xryhTKCT"
      },
      "execution_count": null,
      "outputs": []
    },
    {
      "cell_type": "code",
      "source": [
        "# Generate the current event timestamp\n",
        "current_timestamp = datetime.today()\n",
        "\n",
        "inference_data[\"timestamp\"] = current_timestamp.date()"
      ],
      "metadata": {
        "id": "qXDurlpYTNYV"
      },
      "execution_count": null,
      "outputs": []
    },
    {
      "cell_type": "code",
      "source": [
        "inference_data"
      ],
      "metadata": {
        "id": "Tfh6l1DyQh42"
      },
      "execution_count": null,
      "outputs": []
    },
    {
      "cell_type": "code",
      "source": [
        "inference_data = pd.DataFrame(inference_data, index=[0])\n",
        "\n",
        "# Reorder columns to match properties fg order\n",
        "inference_data = inference_data[[\n",
        "    'id',\n",
        "    'timestamp',  # In properties fg this is called scraping_date\n",
        "    'agencyid',\n",
        "    'bedroomsnumber',\n",
        "    'buildingyear',\n",
        "    'codcom',\n",
        "    'gsm',\n",
        "    'surface',\n",
        "    'latitude',\n",
        "    'longitude',\n",
        "    'isluxury',\n",
        "    'isnew',\n",
        "    'on_the_market',\n",
        "    'zeroenergybuilding',\n",
        "    'airconditioning',\n",
        "    'bathrooms',\n",
        "    'city',\n",
        "    'condition',\n",
        "    'energyclass',\n",
        "    'ga4heating',\n",
        "    'garage',\n",
        "    'heatingtype',\n",
        "    'pricerange',\n",
        "    'rooms',\n",
        "    'id_zona_omi',\n",
        "    'price',\n",
        "]]"
      ],
      "metadata": {
        "id": "8e0u0UaCRxs9"
      },
      "execution_count": null,
      "outputs": []
    },
    {
      "cell_type": "code",
      "source": [
        "inference_data"
      ],
      "metadata": {
        "id": "yw7bSUGPSW0E",
        "outputId": "ae1f5e97-3e3c-433a-d2ac-1ba3b5ba68ed",
        "colab": {
          "base_uri": "https://localhost:8080/",
          "height": 145
        }
      },
      "execution_count": null,
      "outputs": [
        {
          "output_type": "execute_result",
          "data": {
            "text/plain": [
              "          id   timestamp  agencyid  bedroomsnumber  buildingyear   codcom  \\\n",
              "0  181222906  2024-12-20  169110.0             3.0        2023.0  26086.0   \n",
              "\n",
              "     gsm  surface  latitude  longitude  ...     city               condition  \\\n",
              "0  181.0      253   45.6674     12.244  ...  Treviso  Nuovo / In costruzione   \n",
              "\n",
              "   energyclass  ga4heating                          garage  \\\n",
              "0           A2    Autonomo  1 in box privato/box in garage   \n",
              "\n",
              "             heatingtype            pricerange rooms id_zona_omi      price  \n",
              "0  autonomo, a pavimento  oltre 500.000 &euro;     4    F704-B11  1426200.5  \n",
              "\n",
              "[1 rows x 26 columns]"
            ],
            "text/html": [
              "\n",
              "  <div id=\"df-ccd4d894-8e62-4695-8419-d6be9235a28b\" class=\"colab-df-container\">\n",
              "    <div>\n",
              "<style scoped>\n",
              "    .dataframe tbody tr th:only-of-type {\n",
              "        vertical-align: middle;\n",
              "    }\n",
              "\n",
              "    .dataframe tbody tr th {\n",
              "        vertical-align: top;\n",
              "    }\n",
              "\n",
              "    .dataframe thead th {\n",
              "        text-align: right;\n",
              "    }\n",
              "</style>\n",
              "<table border=\"1\" class=\"dataframe\">\n",
              "  <thead>\n",
              "    <tr style=\"text-align: right;\">\n",
              "      <th></th>\n",
              "      <th>id</th>\n",
              "      <th>timestamp</th>\n",
              "      <th>agencyid</th>\n",
              "      <th>bedroomsnumber</th>\n",
              "      <th>buildingyear</th>\n",
              "      <th>codcom</th>\n",
              "      <th>gsm</th>\n",
              "      <th>surface</th>\n",
              "      <th>latitude</th>\n",
              "      <th>longitude</th>\n",
              "      <th>...</th>\n",
              "      <th>city</th>\n",
              "      <th>condition</th>\n",
              "      <th>energyclass</th>\n",
              "      <th>ga4heating</th>\n",
              "      <th>garage</th>\n",
              "      <th>heatingtype</th>\n",
              "      <th>pricerange</th>\n",
              "      <th>rooms</th>\n",
              "      <th>id_zona_omi</th>\n",
              "      <th>price</th>\n",
              "    </tr>\n",
              "  </thead>\n",
              "  <tbody>\n",
              "    <tr>\n",
              "      <th>0</th>\n",
              "      <td>181222906</td>\n",
              "      <td>2024-12-20</td>\n",
              "      <td>169110.0</td>\n",
              "      <td>3.0</td>\n",
              "      <td>2023.0</td>\n",
              "      <td>26086.0</td>\n",
              "      <td>181.0</td>\n",
              "      <td>253</td>\n",
              "      <td>45.6674</td>\n",
              "      <td>12.244</td>\n",
              "      <td>...</td>\n",
              "      <td>Treviso</td>\n",
              "      <td>Nuovo / In costruzione</td>\n",
              "      <td>A2</td>\n",
              "      <td>Autonomo</td>\n",
              "      <td>1 in box privato/box in garage</td>\n",
              "      <td>autonomo, a pavimento</td>\n",
              "      <td>oltre 500.000 &amp;euro;</td>\n",
              "      <td>4</td>\n",
              "      <td>F704-B11</td>\n",
              "      <td>1426200.5</td>\n",
              "    </tr>\n",
              "  </tbody>\n",
              "</table>\n",
              "<p>1 rows × 26 columns</p>\n",
              "</div>\n",
              "    <div class=\"colab-df-buttons\">\n",
              "\n",
              "  <div class=\"colab-df-container\">\n",
              "    <button class=\"colab-df-convert\" onclick=\"convertToInteractive('df-ccd4d894-8e62-4695-8419-d6be9235a28b')\"\n",
              "            title=\"Convert this dataframe to an interactive table.\"\n",
              "            style=\"display:none;\">\n",
              "\n",
              "  <svg xmlns=\"http://www.w3.org/2000/svg\" height=\"24px\" viewBox=\"0 -960 960 960\">\n",
              "    <path d=\"M120-120v-720h720v720H120Zm60-500h600v-160H180v160Zm220 220h160v-160H400v160Zm0 220h160v-160H400v160ZM180-400h160v-160H180v160Zm440 0h160v-160H620v160ZM180-180h160v-160H180v160Zm440 0h160v-160H620v160Z\"/>\n",
              "  </svg>\n",
              "    </button>\n",
              "\n",
              "  <style>\n",
              "    .colab-df-container {\n",
              "      display:flex;\n",
              "      gap: 12px;\n",
              "    }\n",
              "\n",
              "    .colab-df-convert {\n",
              "      background-color: #E8F0FE;\n",
              "      border: none;\n",
              "      border-radius: 50%;\n",
              "      cursor: pointer;\n",
              "      display: none;\n",
              "      fill: #1967D2;\n",
              "      height: 32px;\n",
              "      padding: 0 0 0 0;\n",
              "      width: 32px;\n",
              "    }\n",
              "\n",
              "    .colab-df-convert:hover {\n",
              "      background-color: #E2EBFA;\n",
              "      box-shadow: 0px 1px 2px rgba(60, 64, 67, 0.3), 0px 1px 3px 1px rgba(60, 64, 67, 0.15);\n",
              "      fill: #174EA6;\n",
              "    }\n",
              "\n",
              "    .colab-df-buttons div {\n",
              "      margin-bottom: 4px;\n",
              "    }\n",
              "\n",
              "    [theme=dark] .colab-df-convert {\n",
              "      background-color: #3B4455;\n",
              "      fill: #D2E3FC;\n",
              "    }\n",
              "\n",
              "    [theme=dark] .colab-df-convert:hover {\n",
              "      background-color: #434B5C;\n",
              "      box-shadow: 0px 1px 3px 1px rgba(0, 0, 0, 0.15);\n",
              "      filter: drop-shadow(0px 1px 2px rgba(0, 0, 0, 0.3));\n",
              "      fill: #FFFFFF;\n",
              "    }\n",
              "  </style>\n",
              "\n",
              "    <script>\n",
              "      const buttonEl =\n",
              "        document.querySelector('#df-ccd4d894-8e62-4695-8419-d6be9235a28b button.colab-df-convert');\n",
              "      buttonEl.style.display =\n",
              "        google.colab.kernel.accessAllowed ? 'block' : 'none';\n",
              "\n",
              "      async function convertToInteractive(key) {\n",
              "        const element = document.querySelector('#df-ccd4d894-8e62-4695-8419-d6be9235a28b');\n",
              "        const dataTable =\n",
              "          await google.colab.kernel.invokeFunction('convertToInteractive',\n",
              "                                                    [key], {});\n",
              "        if (!dataTable) return;\n",
              "\n",
              "        const docLinkHtml = 'Like what you see? Visit the ' +\n",
              "          '<a target=\"_blank\" href=https://colab.research.google.com/notebooks/data_table.ipynb>data table notebook</a>'\n",
              "          + ' to learn more about interactive tables.';\n",
              "        element.innerHTML = '';\n",
              "        dataTable['output_type'] = 'display_data';\n",
              "        await google.colab.output.renderOutput(dataTable, element);\n",
              "        const docLink = document.createElement('div');\n",
              "        docLink.innerHTML = docLinkHtml;\n",
              "        element.appendChild(docLink);\n",
              "      }\n",
              "    </script>\n",
              "  </div>\n",
              "\n",
              "\n",
              "  <div id=\"id_f6303aca-727a-4249-9cd9-6e59ceae7b78\">\n",
              "    <style>\n",
              "      .colab-df-generate {\n",
              "        background-color: #E8F0FE;\n",
              "        border: none;\n",
              "        border-radius: 50%;\n",
              "        cursor: pointer;\n",
              "        display: none;\n",
              "        fill: #1967D2;\n",
              "        height: 32px;\n",
              "        padding: 0 0 0 0;\n",
              "        width: 32px;\n",
              "      }\n",
              "\n",
              "      .colab-df-generate:hover {\n",
              "        background-color: #E2EBFA;\n",
              "        box-shadow: 0px 1px 2px rgba(60, 64, 67, 0.3), 0px 1px 3px 1px rgba(60, 64, 67, 0.15);\n",
              "        fill: #174EA6;\n",
              "      }\n",
              "\n",
              "      [theme=dark] .colab-df-generate {\n",
              "        background-color: #3B4455;\n",
              "        fill: #D2E3FC;\n",
              "      }\n",
              "\n",
              "      [theme=dark] .colab-df-generate:hover {\n",
              "        background-color: #434B5C;\n",
              "        box-shadow: 0px 1px 3px 1px rgba(0, 0, 0, 0.15);\n",
              "        filter: drop-shadow(0px 1px 2px rgba(0, 0, 0, 0.3));\n",
              "        fill: #FFFFFF;\n",
              "      }\n",
              "    </style>\n",
              "    <button class=\"colab-df-generate\" onclick=\"generateWithVariable('inference_data')\"\n",
              "            title=\"Generate code using this dataframe.\"\n",
              "            style=\"display:none;\">\n",
              "\n",
              "  <svg xmlns=\"http://www.w3.org/2000/svg\" height=\"24px\"viewBox=\"0 0 24 24\"\n",
              "       width=\"24px\">\n",
              "    <path d=\"M7,19H8.4L18.45,9,17,7.55,7,17.6ZM5,21V16.75L18.45,3.32a2,2,0,0,1,2.83,0l1.4,1.43a1.91,1.91,0,0,1,.58,1.4,1.91,1.91,0,0,1-.58,1.4L9.25,21ZM18.45,9,17,7.55Zm-12,3A5.31,5.31,0,0,0,4.9,8.1,5.31,5.31,0,0,0,1,6.5,5.31,5.31,0,0,0,4.9,4.9,5.31,5.31,0,0,0,6.5,1,5.31,5.31,0,0,0,8.1,4.9,5.31,5.31,0,0,0,12,6.5,5.46,5.46,0,0,0,6.5,12Z\"/>\n",
              "  </svg>\n",
              "    </button>\n",
              "    <script>\n",
              "      (() => {\n",
              "      const buttonEl =\n",
              "        document.querySelector('#id_f6303aca-727a-4249-9cd9-6e59ceae7b78 button.colab-df-generate');\n",
              "      buttonEl.style.display =\n",
              "        google.colab.kernel.accessAllowed ? 'block' : 'none';\n",
              "\n",
              "      buttonEl.onclick = () => {\n",
              "        google.colab.notebook.generateWithVariable('inference_data');\n",
              "      }\n",
              "      })();\n",
              "    </script>\n",
              "  </div>\n",
              "\n",
              "    </div>\n",
              "  </div>\n"
            ],
            "application/vnd.google.colaboratory.intrinsic+json": {
              "type": "dataframe",
              "variable_name": "inference_data"
            }
          },
          "metadata": {},
          "execution_count": 53
        }
      ]
    },
    {
      "cell_type": "code",
      "source": [
        "# Get or create the 'property_preds' feature group\n",
        "property_preds = fs.get_or_create_feature_group(\n",
        "    name='property_preds',\n",
        "    version=3,\n",
        "    description='Property predicted prices',\n",
        "    primary_key=['id'],\n",
        "    event_time='timestamp'\n",
        ")"
      ],
      "metadata": {
        "id": "R5BwfOgCTaUs"
      },
      "execution_count": null,
      "outputs": []
    },
    {
      "cell_type": "code",
      "source": [
        "# Insert data into feature group\n",
        "property_preds.insert(inference_data)"
      ],
      "metadata": {
        "id": "IoPozYKbTdi_",
        "outputId": "7924cc5c-5852-4ff8-ec98-5eb8e61a645e",
        "colab": {
          "base_uri": "https://localhost:8080/"
        }
      },
      "execution_count": null,
      "outputs": [
        {
          "output_type": "stream",
          "name": "stdout",
          "text": [
            "Feature Group created successfully, explore it at \n",
            "https://c.app.hopsworks.ai:443/p/1158295/fs/1148998/fg/1393016\n"
          ]
        },
        {
          "output_type": "stream",
          "name": "stderr",
          "text": [
            "Uploading Dataframe: 100.00% |██████████| Rows 1/1 | Elapsed Time: 00:01 | Remaining Time: 00:00\n"
          ]
        },
        {
          "output_type": "stream",
          "name": "stdout",
          "text": [
            "Launching job: property_preds_3_offline_fg_materialization\n",
            "Job started successfully, you can follow the progress at \n",
            "https://c.app.hopsworks.ai:443/p/1158295/jobs/named/property_preds_3_offline_fg_materialization/executions\n"
          ]
        },
        {
          "output_type": "execute_result",
          "data": {
            "text/plain": [
              "(Job('property_preds_3_offline_fg_materialization', 'SPARK'), None)"
            ]
          },
          "metadata": {},
          "execution_count": 55
        }
      ]
    },
    {
      "cell_type": "markdown",
      "source": [
        "## <a class=\"anchor\" id=\"1.5_bullet\" style=\"color:#ff5f27\"> 🚀 Model Deployment</a>\n",
        "\n",
        "### <span style=\"color:#ff5f27;\">📎 Predictor script for Python models</span>"
      ],
      "metadata": {
        "id": "oj_zMTUzA0NH"
      }
    },
    {
      "cell_type": "code",
      "source": [
        "%%writefile predict_house_price.py\n",
        "from xgboost import XGBRegressor\n",
        "import hopsworks\n",
        "import numpy as np\n",
        "\n",
        "class Predict(object):\n",
        "\n",
        "    def __init__(self):\n",
        "        \"\"\" Initializes the serving state, reads a trained model\"\"\"\n",
        "        # Get feature store handle\n",
        "        proj = hopsworks.login()\n",
        "        self.mr = proj.get_model_registry()\n",
        "        self.xgboost_regressor = XGBRegressor()\n",
        "\n",
        "        # Retrieve the feature view from the model\n",
        "        retrieved_model = self.mr.get_model(\n",
        "            name=\"house_price_xgboost_model\",\n",
        "            version=16,  # Latest version\n",
        "        )\n",
        "\n",
        "        # Download the saved model artifacts to a local directory\n",
        "        saved_model_dir = retrieved_model.download()\n",
        "\n",
        "        self.feature_view = retrieved_model.get_feature_view()  # house_price_fv v4 attached to the model\n",
        "\n",
        "        # Load the trained model\n",
        "        self.xgboost_regressor.load_model(saved_model_dir + \"/model.json\")\n",
        "        print(\"Initialization Complete\")\n",
        "\n",
        "    def predict(self, inputs):\n",
        "        \"\"\" Serves a prediction request usign a trained model\"\"\"\n",
        "        # feature_vector = self.feature_view.get_feature_vector(\n",
        "            # entry={'id_zona_omi': inputs['id_zona_omi']},\n",
        "            # passed_features=inputs,\n",
        "            # return_type=\"list\",\n",
        "        # )\n",
        "\n",
        "        return self.xgboost_regressor.predict(np.asarray(inputs).reshape(1, -1)).tolist()"
      ],
      "metadata": {
        "id": "8_RKA794BBvb",
        "outputId": "26def3ff-1e2d-4b37-cfd4-b6ed40c69f8d",
        "colab": {
          "base_uri": "https://localhost:8080/"
        }
      },
      "execution_count": 177,
      "outputs": [
        {
          "output_type": "stream",
          "name": "stdout",
          "text": [
            "Overwriting predict_house_price.py\n"
          ]
        }
      ]
    },
    {
      "cell_type": "code",
      "source": [
        "# Get the dataset API from the project\n",
        "dataset_api = proj.get_dataset_api()\n",
        "\n",
        "# Specify the file to upload (\"predict_example.py\") to the \"Models\" directory, and allow overwriting\n",
        "uploaded_file_path = dataset_api.upload(\"predict_house_price.py\", \"Models\", overwrite=True)\n",
        "\n",
        "# Construct the full path to the uploaded predictor script\n",
        "predictor_script_path = os.path.join(\"/Projects\", proj.name, uploaded_file_path)"
      ],
      "metadata": {
        "id": "qV0Ak12oXWbG",
        "outputId": "63420682-0f82-46ce-f2c8-27c464994263",
        "colab": {
          "base_uri": "https://localhost:8080/",
          "height": 49,
          "referenced_widgets": [
            "94755fbd1c8046478bd77c89a7f4c051",
            "e1126894dbc84f8f96b1dc7770506e55",
            "0220bd60e7724615bfbec304cdbeed1f",
            "fc3da52f52814a82b1f677f9fa510839",
            "3378da2850254ea3bc83d8b7b72896dc",
            "25b45b4095d1440b938a991287601f1c",
            "8f358634cdc44357a2ebb412aa67a8e5",
            "958e20a63f754d7fa2b752721dabbde9",
            "6fbed8f675954afbaba91b9e5009094f",
            "658e1631f65c46c191673cf878d33725",
            "e5e8f7229e234b4c82bef24249f1e7f3"
          ]
        }
      },
      "execution_count": 178,
      "outputs": [
        {
          "output_type": "display_data",
          "data": {
            "text/plain": [
              "Uploading: 0.000%|          | 0/1315 elapsed<00:00 remaining<?"
            ],
            "application/vnd.jupyter.widget-view+json": {
              "version_major": 2,
              "version_minor": 0,
              "model_id": "94755fbd1c8046478bd77c89a7f4c051"
            }
          },
          "metadata": {}
        }
      ]
    },
    {
      "cell_type": "markdown",
      "source": [
        "### <span style=\"color:#ff5f27;\">👩🏻‍🔬 Create the deployment</span>\n",
        "\n",
        "Here, you fetch the model you want from the model registry and define a configuration for the deployment. For the configuration, you need to specify the serving type (default or KFserving)."
      ],
      "metadata": {
        "id": "4ZicnS25X4wo"
      }
    },
    {
      "cell_type": "code",
      "source": [
        "# Deploy the fraud model\n",
        "deployment = retrieved_model.deploy(\n",
        "    name=\"house\",                 # Specify the deployment name\n",
        "    script_file=predictor_script_path,  # Provide the path to the predictor script\n",
        ")"
      ],
      "metadata": {
        "id": "Pg9wDA1sX2_n",
        "outputId": "7771f687-1adc-439d-f144-4ba78627f35e",
        "colab": {
          "base_uri": "https://localhost:8080/"
        }
      },
      "execution_count": 179,
      "outputs": [
        {
          "output_type": "stream",
          "name": "stdout",
          "text": [
            "Deployment created, explore it at https://c.app.hopsworks.ai:443/p/1158295/deployments/353287\n",
            "Before making predictions, start the deployment by using `.start()`\n"
          ]
        }
      ]
    },
    {
      "cell_type": "code",
      "source": [
        "# Start the deployment and wait for it to be running, with a maximum waiting time of 180 seconds\n",
        "deployment.start(await_running=180)"
      ],
      "metadata": {
        "id": "AXSvH110Ysj6",
        "outputId": "2490115a-c33a-430a-f1f9-1af0d0e30e9b",
        "colab": {
          "base_uri": "https://localhost:8080/",
          "height": 66,
          "referenced_widgets": [
            "0dddb18d4b264e64924f3cc882e4dd3b",
            "f6665e2a77f145fa870646eae57f40e4",
            "939d303e67e843d88e55fc7c9c0c84b3",
            "2b38e4857cd74067b28e7e94030b0a27",
            "6c66fa41224f4b69b5639a338d036c9a",
            "299912d3ac914840b7a712524bffc5f1",
            "1f72b50581d2479299733e4fc606bfcb",
            "30fffa74e2d745f6ab82b0bed221a643",
            "735bdee117cb4b8eb95e96025388b29a",
            "947ca4d5d28f41aa85eb6870c079f298",
            "f8f56a3626204fe0900984aec80b1522"
          ]
        }
      },
      "execution_count": 180,
      "outputs": [
        {
          "output_type": "display_data",
          "data": {
            "text/plain": [
              "  0%|          | 0/5 [00:00<?, ?it/s]"
            ],
            "application/vnd.jupyter.widget-view+json": {
              "version_major": 2,
              "version_minor": 0,
              "model_id": "0dddb18d4b264e64924f3cc882e4dd3b"
            }
          },
          "metadata": {}
        },
        {
          "output_type": "stream",
          "name": "stdout",
          "text": [
            "Start making predictions by using `.predict()`\n"
          ]
        }
      ]
    },
    {
      "cell_type": "code",
      "source": [
        "# Get the current state of the deployment and describe its details\n",
        "deployment_state = deployment.get_state().describe()"
      ],
      "metadata": {
        "id": "ZS2V0PQLY1Q_",
        "outputId": "9bb2811a-d7ba-46bc-d071-23dabcf735d1",
        "colab": {
          "base_uri": "https://localhost:8080/"
        }
      },
      "execution_count": 181,
      "outputs": [
        {
          "output_type": "stream",
          "name": "stdout",
          "text": [
            "{\n",
            "    \"available_instances\": 1,\n",
            "    \"available_transformer_instances\": 0,\n",
            "    \"condition\": {\n",
            "        \"reason\": \"Deployment is ready\",\n",
            "        \"status\": true,\n",
            "        \"type\": \"READY\"\n",
            "    },\n",
            "    \"deployed\": \"2024-12-20T10:59:14.000Z\",\n",
            "    \"hopsworks_inference_path\": \"/project/1158295/inference/models/house\",\n",
            "    \"model_server_inference_path\": \"/v1/models/house\",\n",
            "    \"revision\": \"50633510\",\n",
            "    \"status\": \"Running\"\n",
            "}\n"
          ]
        }
      ]
    },
    {
      "cell_type": "markdown",
      "source": [
        "## <span style=\"color:#ff5f27;\"> 📡 Test your Model with an Inference Request </span>\n",
        "\n",
        "Finally you can start making predictions with your model!\n",
        "\n",
        "Send inference requests to the deployed model as follows:"
      ],
      "metadata": {
        "id": "YXoPG6QiaOmu"
      }
    },
    {
      "cell_type": "code",
      "source": [
        "transformed_data"
      ],
      "metadata": {
        "id": "xsLIctfwdbGp",
        "outputId": "2210431a-6df6-4302-b818-6ceb61322545",
        "colab": {
          "base_uri": "https://localhost:8080/"
        }
      },
      "execution_count": 182,
      "outputs": [
        {
          "output_type": "execute_result",
          "data": {
            "text/plain": [
              "[169110.0,\n",
              " 3.0,\n",
              " 2023.0,\n",
              " 26086.0,\n",
              " 181.0,\n",
              " 253,\n",
              " 45.6674,\n",
              " 12.244,\n",
              " 1,\n",
              " 0,\n",
              " 0,\n",
              " 0,\n",
              " 1915.0,\n",
              " 2663.0,\n",
              " 4,\n",
              " 3,\n",
              " 87,\n",
              " 2,\n",
              " 0,\n",
              " 3,\n",
              " 0,\n",
              " 0,\n",
              " 1,\n",
              " 539,\n",
              " 5,\n",
              " 4,\n",
              " 0,\n",
              " 0]"
            ]
          },
          "metadata": {},
          "execution_count": 182
        }
      ]
    },
    {
      "cell_type": "code",
      "source": [
        "# Convert NumPy int64 to native Python int\n",
        "transformed_data_python = [int(x) if isinstance(x, np.int64) else x for x in transformed_data]"
      ],
      "metadata": {
        "id": "60JTWErEsFCZ"
      },
      "execution_count": 183,
      "outputs": []
    },
    {
      "cell_type": "code",
      "source": [
        "# Make predictions using the deployed model\n",
        "predictions = deployment.predict(\n",
        "    {\"instances\": [transformed_data_python]},\n",
        ")\n",
        "predictions"
      ],
      "metadata": {
        "id": "TByHxOdwaPPy",
        "outputId": "eafd6dde-40d1-494e-8e4b-c8989a6ba3e5",
        "colab": {
          "base_uri": "https://localhost:8080/"
        }
      },
      "execution_count": 201,
      "outputs": [
        {
          "output_type": "execute_result",
          "data": {
            "text/plain": [
              "{'predictions': [1426200.5]}"
            ]
          },
          "metadata": {},
          "execution_count": 201
        }
      ]
    },
    {
      "cell_type": "code",
      "source": [
        "deployment.get_logs()"
      ],
      "metadata": {
        "id": "wD7Y1TwMlBFg",
        "outputId": "82bdc94c-1096-44c2-ec12-b4f0afd45798",
        "colab": {
          "base_uri": "https://localhost:8080/"
        }
      },
      "execution_count": 185,
      "outputs": [
        {
          "output_type": "stream",
          "name": "stdout",
          "text": [
            "Explore all the logs and filters in the Kibana logs at https://c.app.hopsworks.ai:443/p/1158295/deployments/353287\n",
            "\n",
            "DeployableComponentLogs(instance_name: 'house-predictor-00001-deployment-848c6d8567-5w9g4', date: datetime.datetime(2024, 12, 20, 11, 0, 20, 672889)) \n",
            "2024-12-20 10:59:38.569 uvicorn.error INFO:     Application startup complete.\n",
            "2024-12-20 10:59:38.569 uvicorn.error INFO:     Uvicorn running on http://0.0.0.0:8080 (Press CTRL+C to quit)\n",
            "2024-12-20 10:59:57.728 uvicorn.access INFO:     127.0.0.1:56382 8 - \"GET /metrics HTTP/1.1\" 200 OK\n",
            "2024-12-20 10:59:57.728 kserve.trace kserve.io.kserve.protocol.rest.server.metrics_handler: 0.0007534027099609375 ['http_status:200', 'http_method:GET', 'time:wall']\n",
            "2024-12-20 10:59:57.728 kserve.trace kserve.io.kserve.protocol.rest.server.metrics_handler: 0.0007429999999999382 ['http_status:200', 'http_method:GET', 'time:cpu']\n",
            "INFO:root:Received request via 'v1 protocol'\n",
            "2024-12-20 11:00:14.774 kserve.trace requestId: 5f01f73d-0902-46ae-a18a-55565b67bf98, preprocess_ms: 0.011205673, explain_ms: 0, predict_ms: 1.316308975, postprocess_ms: 0.007629395\n",
            "2024-12-20 11:00:14.774 uvicorn.access INFO:     10.2.3.34:0 8 - \"POST /v1/models/house%3Apredict HTTP/1.1\" 200 OK\n",
            "2024-12-20 11:00:14.774 kserve.trace kserve.io.kserve.protocol.rest.v1_endpoints.predict: 0.002385854721069336 ['http_status:200', 'http_method:POST', 'time:wall']\n",
            "2024-12-20 11:00:14.774 kserve.trace kserve.io.kserve.protocol.rest.v1_endpoints.predict: 0.0021379999999999733 ['http_status:200', 'http_method:POST', 'time:cpu']\n",
            "\n",
            "\n"
          ]
        }
      ]
    },
    {
      "cell_type": "markdown",
      "source": [
        "## <span style=\"color:#ff5f27;\"> 👾 Try out your Model Interactively </span>\n",
        "\n",
        "We will build a user interface with Gradio to allow you to enter a credit card category and amount to see if the credit card transaction will be marked as suspected of fraud or not."
      ],
      "metadata": {
        "id": "ph4_3LEvuh1C"
      }
    },
    {
      "cell_type": "code",
      "source": [
        "!pip install gradio --quiet\n",
        "!pip install typing-extensions==4.3.0"
      ],
      "metadata": {
        "id": "saKegL9NuhEh",
        "outputId": "e3d72450-83df-432e-c8d6-3a26b2252137",
        "colab": {
          "base_uri": "https://localhost:8080/"
        }
      },
      "execution_count": 186,
      "outputs": [
        {
          "output_type": "stream",
          "name": "stdout",
          "text": [
            "\u001b[2K   \u001b[90m━━━━━━━━━━━━━━━━━━━━━━━━━━━━━━━━━━━━━━━━\u001b[0m \u001b[32m57.2/57.2 MB\u001b[0m \u001b[31m7.8 MB/s\u001b[0m eta \u001b[36m0:00:00\u001b[0m\n",
            "\u001b[2K   \u001b[90m━━━━━━━━━━━━━━━━━━━━━━━━━━━━━━━━━━━━━━━━\u001b[0m \u001b[32m320.4/320.4 kB\u001b[0m \u001b[31m19.4 MB/s\u001b[0m eta \u001b[36m0:00:00\u001b[0m\n",
            "\u001b[2K   \u001b[90m━━━━━━━━━━━━━━━━━━━━━━━━━━━━━━━━━━━━━━━━\u001b[0m \u001b[32m94.8/94.8 kB\u001b[0m \u001b[31m6.8 MB/s\u001b[0m eta \u001b[36m0:00:00\u001b[0m\n",
            "\u001b[2K   \u001b[90m━━━━━━━━━━━━━━━━━━━━━━━━━━━━━━━━━━━━━━━━\u001b[0m \u001b[32m11.2/11.2 MB\u001b[0m \u001b[31m70.5 MB/s\u001b[0m eta \u001b[36m0:00:00\u001b[0m\n",
            "\u001b[2K   \u001b[90m━━━━━━━━━━━━━━━━━━━━━━━━━━━━━━━━━━━━━━━━\u001b[0m \u001b[32m73.2/73.2 kB\u001b[0m \u001b[31m5.6 MB/s\u001b[0m eta \u001b[36m0:00:00\u001b[0m\n",
            "\u001b[2K   \u001b[90m━━━━━━━━━━━━━━━━━━━━━━━━━━━━━━━━━━━━━━━━\u001b[0m \u001b[32m62.3/62.3 kB\u001b[0m \u001b[31m4.7 MB/s\u001b[0m eta \u001b[36m0:00:00\u001b[0m\n",
            "\u001b[?25hCollecting typing-extensions==4.3.0\n",
            "  Downloading typing_extensions-4.3.0-py3-none-any.whl.metadata (6.3 kB)\n",
            "Downloading typing_extensions-4.3.0-py3-none-any.whl (25 kB)\n",
            "Installing collected packages: typing-extensions\n",
            "  Attempting uninstall: typing-extensions\n",
            "    Found existing installation: typing_extensions 4.12.2\n",
            "    Uninstalling typing_extensions-4.12.2:\n",
            "      Successfully uninstalled typing_extensions-4.12.2\n",
            "\u001b[31mERROR: pip's dependency resolver does not currently take into account all the packages that are installed. This behaviour is the source of the following dependency conflicts.\n",
            "sqlalchemy 2.0.29 requires typing-extensions>=4.6.0, but you have typing-extensions 4.3.0 which is incompatible.\n",
            "altair 5.5.0 requires typing-extensions>=4.10.0; python_version < \"3.14\", but you have typing-extensions 4.3.0 which is incompatible.\n",
            "fastapi 0.115.6 requires typing-extensions>=4.8.0, but you have typing-extensions 4.3.0 which is incompatible.\n",
            "langchain-core 0.3.25 requires typing-extensions>=4.7, but you have typing-extensions 4.3.0 which is incompatible.\n",
            "nibabel 5.3.2 requires typing-extensions>=4.6; python_version < \"3.13\", but you have typing-extensions 4.3.0 which is incompatible.\n",
            "openai 1.57.4 requires typing-extensions<5,>=4.11, but you have typing-extensions 4.3.0 which is incompatible.\n",
            "optree 0.13.1 requires typing-extensions>=4.5.0, but you have typing-extensions 4.3.0 which is incompatible.\n",
            "pydantic 2.10.3 requires typing-extensions>=4.12.2, but you have typing-extensions 4.3.0 which is incompatible.\n",
            "pydantic-core 2.27.1 requires typing-extensions!=4.7.0,>=4.6.0, but you have typing-extensions 4.3.0 which is incompatible.\n",
            "simple-parsing 0.1.6 requires typing-extensions>=4.5.0, but you have typing-extensions 4.3.0 which is incompatible.\n",
            "tables 3.10.1 requires typing-extensions>=4.4.0, but you have typing-extensions 4.3.0 which is incompatible.\n",
            "torch 2.5.1+cu121 requires typing-extensions>=4.8.0, but you have typing-extensions 4.3.0 which is incompatible.\n",
            "typeguard 4.4.1 requires typing-extensions>=4.10.0, but you have typing-extensions 4.3.0 which is incompatible.\n",
            "wandb 0.19.1 requires typing-extensions<5,>=4.4; python_version < \"3.12\", but you have typing-extensions 4.3.0 which is incompatible.\u001b[0m\u001b[31m\n",
            "\u001b[0mSuccessfully installed typing-extensions-4.3.0\n"
          ]
        }
      ]
    },
    {
      "cell_type": "code",
      "source": [
        "import gradio as gr\n",
        "import numpy as np\n",
        "\n",
        "def predict_price(\n",
        "    agencyid,\n",
        "    bedroomsnumber,\n",
        "    buildingyear,\n",
        "    codcom,\n",
        "    gsm,\n",
        "    surface,\n",
        "    latitude,\n",
        "    longitude,\n",
        "    isluxury,\n",
        "    isnew,\n",
        "    on_the_market,\n",
        "    zeroenergybuilding,\n",
        "    airconditioning,\n",
        "    bathrooms,\n",
        "    city,\n",
        "    condition,\n",
        "    energyclass,\n",
        "    ga4heating,\n",
        "    garage,\n",
        "    heatingtype,\n",
        "    pricerange,\n",
        "    id_zona_omi,\n",
        "    rooms,\n",
        "):\n",
        "    inference_data = {\n",
        "        \"agencyid\": agencyid,\n",
        "        \"bedroomsnumber\": bedroomsnumber,\n",
        "        \"buildingyear\": buildingyear,\n",
        "        \"codcom\": codcom,\n",
        "        \"gsm\": gsm,\n",
        "        \"surface\": surface,\n",
        "        \"latitude\": latitude,\n",
        "        \"longitude\": longitude,\n",
        "        \"isluxury\": int(isluxury),\n",
        "        \"isnew\": int(isnew),\n",
        "        \"on_the_market\": int(on_the_market),\n",
        "        \"zeroenergybuilding\": int(zeroenergybuilding),\n",
        "        \"airconditioning\": airconditioning,\n",
        "        \"bathrooms\": bathrooms,\n",
        "        \"city\": city,\n",
        "        \"condition\": condition,\n",
        "        \"energyclass\": energyclass,\n",
        "        \"ga4heating\": ga4heating,\n",
        "        \"garage\": garage,\n",
        "        \"heatingtype\": heatingtype,\n",
        "        \"pricerange\": pricerange,\n",
        "        'id_zona_omi':id_zona_omi,\n",
        "        \"rooms\": rooms,\n",
        "    }\n",
        "\n",
        "    print(inference_data)\n",
        "\n",
        "    # Apply Model-dependent transformations to the inference data\n",
        "    transformed_data = feature_view.get_feature_vector(\n",
        "        entry={'id_zona_omi': inference_data['id_zona_omi']},\n",
        "        passed_features=inference_data,\n",
        "        return_type=\"list\",\n",
        "    )\n",
        "\n",
        "    print(transformed_data)\n",
        "\n",
        "    # Convert NumPy int64 to native Python int\n",
        "    transformed_data_python = [int(x) if isinstance(x, np.int64) else x for x in transformed_data]\n",
        "\n",
        "    print(transformed_data_python)\n",
        "    print(type(transformed_data_python))\n",
        "\n",
        "    # Make predictions using the deployed model\n",
        "    predictions = deployment.predict(\n",
        "        {\"instances\": [transformed_data_python]},\n",
        "    )\n",
        "\n",
        "    return predictions['predictions'][0]\n",
        "\n",
        "demo = gr.Interface(\n",
        "    fn=predict_price,\n",
        "    inputs=[\n",
        "        \"number\",\n",
        "        \"number\",\n",
        "        \"number\",\n",
        "        \"number\",\n",
        "        \"number\",\n",
        "        \"number\",\n",
        "        \"number\",\n",
        "        \"number\",\n",
        "        \"checkbox\",\n",
        "        \"checkbox\",\n",
        "        \"checkbox\",\n",
        "        \"checkbox\",\n",
        "        \"text\",\n",
        "        \"text\",\n",
        "        \"text\",\n",
        "        \"text\",\n",
        "        \"text\",\n",
        "        \"text\",\n",
        "        \"text\",\n",
        "        \"text\",\n",
        "        \"text\",\n",
        "        \"text\",\n",
        "        \"text\",\n",
        "    ],\n",
        "    outputs=[gr.Number(label=\"price\")],\n",
        "    examples=[\n",
        "        [\n",
        "            169110.0,\n",
        "            3.0,\n",
        "            2023.0,\n",
        "            26086.0,\n",
        "            181.0,\n",
        "            253,\n",
        "            45.6674,\n",
        "            12.244,\n",
        "            True,   # Changed to int\n",
        "            False,  # Changed to int\n",
        "            False,  # Changed to int\n",
        "            False,  # Changed to int\n",
        "            \"autonomo, freddo\",\n",
        "            \"3\",\n",
        "            \"Treviso\",\n",
        "            \"Nuovo / In costruzione\",\n",
        "            \"A2\",\n",
        "            \"Autonomo\",\n",
        "            \"1 in box privato/box in garage\",\n",
        "            \"autonomo, a pavimento\",\n",
        "            \"oltre 500.000 &euro;\",\n",
        "            \"F704-B11\",\n",
        "            \"4\",\n",
        "        ],\n",
        "    ],\n",
        "    title=\"Italian House Price Predictor\",\n",
        "    description=\"Enter house details.\",\n",
        ")\n",
        "\n",
        "\n",
        "demo.launch(debug=True)"
      ],
      "metadata": {
        "id": "z2jDr3squlPA",
        "outputId": "17cf1103-8d87-47ff-9632-ce5f23edc131",
        "colab": {
          "base_uri": "https://localhost:8080/",
          "height": 750
        }
      },
      "execution_count": 207,
      "outputs": [
        {
          "output_type": "stream",
          "name": "stdout",
          "text": [
            "Running Gradio in a Colab notebook requires sharing enabled. Automatically setting `share=True` (you can turn this off by setting `share=False` in `launch()` explicitly).\n",
            "\n",
            "Colab notebook detected. This cell will run indefinitely so that you can see errors and logs. To turn off, set debug=False in launch().\n",
            "* Running on public URL: https://d3d4b89ab1bd49b6e1.gradio.live\n",
            "\n",
            "This share link expires in 72 hours. For free permanent hosting and GPU upgrades, run `gradio deploy` from the terminal in the working directory to deploy to Hugging Face Spaces (https://huggingface.co/spaces)\n"
          ]
        },
        {
          "output_type": "display_data",
          "data": {
            "text/plain": [
              "<IPython.core.display.HTML object>"
            ],
            "text/html": [
              "<div><iframe src=\"https://d3d4b89ab1bd49b6e1.gradio.live\" width=\"100%\" height=\"500\" allow=\"autoplay; camera; microphone; clipboard-read; clipboard-write;\" frameborder=\"0\" allowfullscreen></iframe></div>"
            ]
          },
          "metadata": {}
        },
        {
          "output_type": "stream",
          "name": "stdout",
          "text": [
            "{'agencyid': 169110, 'bedroomsnumber': 3, 'buildingyear': 2023, 'codcom': 26086, 'gsm': 181, 'surface': 253, 'latitude': 45.6674, 'longitude': 12.244, 'isluxury': 1, 'isnew': 0, 'on_the_market': 0, 'zeroenergybuilding': 0, 'airconditioning': 'autonomo, freddo', 'bathrooms': '3', 'city': 'Treviso', 'condition': 'Nuovo / In costruzione', 'energyclass': 'A2', 'ga4heating': 'Autonomo', 'garage': '1 in box privato/box in garage', 'heatingtype': 'autonomo, a pavimento', 'pricerange': 'oltre 500.000 &euro;', 'id_zona_omi': 'F704-B11', 'rooms': '4'}\n",
            "[169110, 3, 2023, 26086, 181, 253, 45.6674, 12.244, 1, 0, 0, 0, 1915.0, 2663.0, 4, 3, 87, 2, 0, 3, 0, 0, 1, 539, 5, 4, 0, 0]\n",
            "[169110, 3, 2023, 26086, 181, 253, 45.6674, 12.244, 1, 0, 0, 0, 1915.0, 2663.0, 4, 3, 87, 2, 0, 3, 0, 0, 1, 539, 5, 4, 0, 0]\n",
            "<class 'list'>\n",
            "Keyboard interruption in main thread... closing server.\n",
            "Killing tunnel 127.0.0.1:7862 <> https://d3d4b89ab1bd49b6e1.gradio.live\n"
          ]
        },
        {
          "output_type": "execute_result",
          "data": {
            "text/plain": []
          },
          "metadata": {},
          "execution_count": 207
        }
      ]
    }
  ],
  "metadata": {
    "language_info": {
      "name": "python"
    },
    "colab": {
      "provenance": []
    },
    "kernelspec": {
      "name": "python3",
      "display_name": "Python 3"
    },
    "widgets": {
      "application/vnd.jupyter.widget-state+json": {
        "94755fbd1c8046478bd77c89a7f4c051": {
          "model_module": "@jupyter-widgets/controls",
          "model_name": "HBoxModel",
          "model_module_version": "1.5.0",
          "state": {
            "_dom_classes": [],
            "_model_module": "@jupyter-widgets/controls",
            "_model_module_version": "1.5.0",
            "_model_name": "HBoxModel",
            "_view_count": null,
            "_view_module": "@jupyter-widgets/controls",
            "_view_module_version": "1.5.0",
            "_view_name": "HBoxView",
            "box_style": "",
            "children": [
              "IPY_MODEL_e1126894dbc84f8f96b1dc7770506e55",
              "IPY_MODEL_0220bd60e7724615bfbec304cdbeed1f",
              "IPY_MODEL_fc3da52f52814a82b1f677f9fa510839"
            ],
            "layout": "IPY_MODEL_3378da2850254ea3bc83d8b7b72896dc"
          }
        },
        "e1126894dbc84f8f96b1dc7770506e55": {
          "model_module": "@jupyter-widgets/controls",
          "model_name": "HTMLModel",
          "model_module_version": "1.5.0",
          "state": {
            "_dom_classes": [],
            "_model_module": "@jupyter-widgets/controls",
            "_model_module_version": "1.5.0",
            "_model_name": "HTMLModel",
            "_view_count": null,
            "_view_module": "@jupyter-widgets/controls",
            "_view_module_version": "1.5.0",
            "_view_name": "HTMLView",
            "description": "",
            "description_tooltip": null,
            "layout": "IPY_MODEL_25b45b4095d1440b938a991287601f1c",
            "placeholder": "​",
            "style": "IPY_MODEL_8f358634cdc44357a2ebb412aa67a8e5",
            "value": "Uploading: 100.000%"
          }
        },
        "0220bd60e7724615bfbec304cdbeed1f": {
          "model_module": "@jupyter-widgets/controls",
          "model_name": "FloatProgressModel",
          "model_module_version": "1.5.0",
          "state": {
            "_dom_classes": [],
            "_model_module": "@jupyter-widgets/controls",
            "_model_module_version": "1.5.0",
            "_model_name": "FloatProgressModel",
            "_view_count": null,
            "_view_module": "@jupyter-widgets/controls",
            "_view_module_version": "1.5.0",
            "_view_name": "ProgressView",
            "bar_style": "success",
            "description": "",
            "description_tooltip": null,
            "layout": "IPY_MODEL_958e20a63f754d7fa2b752721dabbde9",
            "max": 1315,
            "min": 0,
            "orientation": "horizontal",
            "style": "IPY_MODEL_6fbed8f675954afbaba91b9e5009094f",
            "value": 1315
          }
        },
        "fc3da52f52814a82b1f677f9fa510839": {
          "model_module": "@jupyter-widgets/controls",
          "model_name": "HTMLModel",
          "model_module_version": "1.5.0",
          "state": {
            "_dom_classes": [],
            "_model_module": "@jupyter-widgets/controls",
            "_model_module_version": "1.5.0",
            "_model_name": "HTMLModel",
            "_view_count": null,
            "_view_module": "@jupyter-widgets/controls",
            "_view_module_version": "1.5.0",
            "_view_name": "HTMLView",
            "description": "",
            "description_tooltip": null,
            "layout": "IPY_MODEL_658e1631f65c46c191673cf878d33725",
            "placeholder": "​",
            "style": "IPY_MODEL_e5e8f7229e234b4c82bef24249f1e7f3",
            "value": " 1315/1315 elapsed&lt;00:01 remaining&lt;00:00"
          }
        },
        "3378da2850254ea3bc83d8b7b72896dc": {
          "model_module": "@jupyter-widgets/base",
          "model_name": "LayoutModel",
          "model_module_version": "1.2.0",
          "state": {
            "_model_module": "@jupyter-widgets/base",
            "_model_module_version": "1.2.0",
            "_model_name": "LayoutModel",
            "_view_count": null,
            "_view_module": "@jupyter-widgets/base",
            "_view_module_version": "1.2.0",
            "_view_name": "LayoutView",
            "align_content": null,
            "align_items": null,
            "align_self": null,
            "border": null,
            "bottom": null,
            "display": null,
            "flex": null,
            "flex_flow": null,
            "grid_area": null,
            "grid_auto_columns": null,
            "grid_auto_flow": null,
            "grid_auto_rows": null,
            "grid_column": null,
            "grid_gap": null,
            "grid_row": null,
            "grid_template_areas": null,
            "grid_template_columns": null,
            "grid_template_rows": null,
            "height": null,
            "justify_content": null,
            "justify_items": null,
            "left": null,
            "margin": null,
            "max_height": null,
            "max_width": null,
            "min_height": null,
            "min_width": null,
            "object_fit": null,
            "object_position": null,
            "order": null,
            "overflow": null,
            "overflow_x": null,
            "overflow_y": null,
            "padding": null,
            "right": null,
            "top": null,
            "visibility": null,
            "width": null
          }
        },
        "25b45b4095d1440b938a991287601f1c": {
          "model_module": "@jupyter-widgets/base",
          "model_name": "LayoutModel",
          "model_module_version": "1.2.0",
          "state": {
            "_model_module": "@jupyter-widgets/base",
            "_model_module_version": "1.2.0",
            "_model_name": "LayoutModel",
            "_view_count": null,
            "_view_module": "@jupyter-widgets/base",
            "_view_module_version": "1.2.0",
            "_view_name": "LayoutView",
            "align_content": null,
            "align_items": null,
            "align_self": null,
            "border": null,
            "bottom": null,
            "display": null,
            "flex": null,
            "flex_flow": null,
            "grid_area": null,
            "grid_auto_columns": null,
            "grid_auto_flow": null,
            "grid_auto_rows": null,
            "grid_column": null,
            "grid_gap": null,
            "grid_row": null,
            "grid_template_areas": null,
            "grid_template_columns": null,
            "grid_template_rows": null,
            "height": null,
            "justify_content": null,
            "justify_items": null,
            "left": null,
            "margin": null,
            "max_height": null,
            "max_width": null,
            "min_height": null,
            "min_width": null,
            "object_fit": null,
            "object_position": null,
            "order": null,
            "overflow": null,
            "overflow_x": null,
            "overflow_y": null,
            "padding": null,
            "right": null,
            "top": null,
            "visibility": null,
            "width": null
          }
        },
        "8f358634cdc44357a2ebb412aa67a8e5": {
          "model_module": "@jupyter-widgets/controls",
          "model_name": "DescriptionStyleModel",
          "model_module_version": "1.5.0",
          "state": {
            "_model_module": "@jupyter-widgets/controls",
            "_model_module_version": "1.5.0",
            "_model_name": "DescriptionStyleModel",
            "_view_count": null,
            "_view_module": "@jupyter-widgets/base",
            "_view_module_version": "1.2.0",
            "_view_name": "StyleView",
            "description_width": ""
          }
        },
        "958e20a63f754d7fa2b752721dabbde9": {
          "model_module": "@jupyter-widgets/base",
          "model_name": "LayoutModel",
          "model_module_version": "1.2.0",
          "state": {
            "_model_module": "@jupyter-widgets/base",
            "_model_module_version": "1.2.0",
            "_model_name": "LayoutModel",
            "_view_count": null,
            "_view_module": "@jupyter-widgets/base",
            "_view_module_version": "1.2.0",
            "_view_name": "LayoutView",
            "align_content": null,
            "align_items": null,
            "align_self": null,
            "border": null,
            "bottom": null,
            "display": null,
            "flex": null,
            "flex_flow": null,
            "grid_area": null,
            "grid_auto_columns": null,
            "grid_auto_flow": null,
            "grid_auto_rows": null,
            "grid_column": null,
            "grid_gap": null,
            "grid_row": null,
            "grid_template_areas": null,
            "grid_template_columns": null,
            "grid_template_rows": null,
            "height": null,
            "justify_content": null,
            "justify_items": null,
            "left": null,
            "margin": null,
            "max_height": null,
            "max_width": null,
            "min_height": null,
            "min_width": null,
            "object_fit": null,
            "object_position": null,
            "order": null,
            "overflow": null,
            "overflow_x": null,
            "overflow_y": null,
            "padding": null,
            "right": null,
            "top": null,
            "visibility": null,
            "width": null
          }
        },
        "6fbed8f675954afbaba91b9e5009094f": {
          "model_module": "@jupyter-widgets/controls",
          "model_name": "ProgressStyleModel",
          "model_module_version": "1.5.0",
          "state": {
            "_model_module": "@jupyter-widgets/controls",
            "_model_module_version": "1.5.0",
            "_model_name": "ProgressStyleModel",
            "_view_count": null,
            "_view_module": "@jupyter-widgets/base",
            "_view_module_version": "1.2.0",
            "_view_name": "StyleView",
            "bar_color": null,
            "description_width": ""
          }
        },
        "658e1631f65c46c191673cf878d33725": {
          "model_module": "@jupyter-widgets/base",
          "model_name": "LayoutModel",
          "model_module_version": "1.2.0",
          "state": {
            "_model_module": "@jupyter-widgets/base",
            "_model_module_version": "1.2.0",
            "_model_name": "LayoutModel",
            "_view_count": null,
            "_view_module": "@jupyter-widgets/base",
            "_view_module_version": "1.2.0",
            "_view_name": "LayoutView",
            "align_content": null,
            "align_items": null,
            "align_self": null,
            "border": null,
            "bottom": null,
            "display": null,
            "flex": null,
            "flex_flow": null,
            "grid_area": null,
            "grid_auto_columns": null,
            "grid_auto_flow": null,
            "grid_auto_rows": null,
            "grid_column": null,
            "grid_gap": null,
            "grid_row": null,
            "grid_template_areas": null,
            "grid_template_columns": null,
            "grid_template_rows": null,
            "height": null,
            "justify_content": null,
            "justify_items": null,
            "left": null,
            "margin": null,
            "max_height": null,
            "max_width": null,
            "min_height": null,
            "min_width": null,
            "object_fit": null,
            "object_position": null,
            "order": null,
            "overflow": null,
            "overflow_x": null,
            "overflow_y": null,
            "padding": null,
            "right": null,
            "top": null,
            "visibility": null,
            "width": null
          }
        },
        "e5e8f7229e234b4c82bef24249f1e7f3": {
          "model_module": "@jupyter-widgets/controls",
          "model_name": "DescriptionStyleModel",
          "model_module_version": "1.5.0",
          "state": {
            "_model_module": "@jupyter-widgets/controls",
            "_model_module_version": "1.5.0",
            "_model_name": "DescriptionStyleModel",
            "_view_count": null,
            "_view_module": "@jupyter-widgets/base",
            "_view_module_version": "1.2.0",
            "_view_name": "StyleView",
            "description_width": ""
          }
        },
        "0dddb18d4b264e64924f3cc882e4dd3b": {
          "model_module": "@jupyter-widgets/controls",
          "model_name": "HBoxModel",
          "model_module_version": "1.5.0",
          "state": {
            "_dom_classes": [],
            "_model_module": "@jupyter-widgets/controls",
            "_model_module_version": "1.5.0",
            "_model_name": "HBoxModel",
            "_view_count": null,
            "_view_module": "@jupyter-widgets/controls",
            "_view_module_version": "1.5.0",
            "_view_name": "HBoxView",
            "box_style": "",
            "children": [
              "IPY_MODEL_f6665e2a77f145fa870646eae57f40e4",
              "IPY_MODEL_939d303e67e843d88e55fc7c9c0c84b3",
              "IPY_MODEL_2b38e4857cd74067b28e7e94030b0a27"
            ],
            "layout": "IPY_MODEL_6c66fa41224f4b69b5639a338d036c9a"
          }
        },
        "f6665e2a77f145fa870646eae57f40e4": {
          "model_module": "@jupyter-widgets/controls",
          "model_name": "HTMLModel",
          "model_module_version": "1.5.0",
          "state": {
            "_dom_classes": [],
            "_model_module": "@jupyter-widgets/controls",
            "_model_module_version": "1.5.0",
            "_model_name": "HTMLModel",
            "_view_count": null,
            "_view_module": "@jupyter-widgets/controls",
            "_view_module_version": "1.5.0",
            "_view_name": "HTMLView",
            "description": "",
            "description_tooltip": null,
            "layout": "IPY_MODEL_299912d3ac914840b7a712524bffc5f1",
            "placeholder": "​",
            "style": "IPY_MODEL_1f72b50581d2479299733e4fc606bfcb",
            "value": "Deployment is ready: 100%"
          }
        },
        "939d303e67e843d88e55fc7c9c0c84b3": {
          "model_module": "@jupyter-widgets/controls",
          "model_name": "FloatProgressModel",
          "model_module_version": "1.5.0",
          "state": {
            "_dom_classes": [],
            "_model_module": "@jupyter-widgets/controls",
            "_model_module_version": "1.5.0",
            "_model_name": "FloatProgressModel",
            "_view_count": null,
            "_view_module": "@jupyter-widgets/controls",
            "_view_module_version": "1.5.0",
            "_view_name": "ProgressView",
            "bar_style": "success",
            "description": "",
            "description_tooltip": null,
            "layout": "IPY_MODEL_30fffa74e2d745f6ab82b0bed221a643",
            "max": 5,
            "min": 0,
            "orientation": "horizontal",
            "style": "IPY_MODEL_735bdee117cb4b8eb95e96025388b29a",
            "value": 5
          }
        },
        "2b38e4857cd74067b28e7e94030b0a27": {
          "model_module": "@jupyter-widgets/controls",
          "model_name": "HTMLModel",
          "model_module_version": "1.5.0",
          "state": {
            "_dom_classes": [],
            "_model_module": "@jupyter-widgets/controls",
            "_model_module_version": "1.5.0",
            "_model_name": "HTMLModel",
            "_view_count": null,
            "_view_module": "@jupyter-widgets/controls",
            "_view_module_version": "1.5.0",
            "_view_name": "HTMLView",
            "description": "",
            "description_tooltip": null,
            "layout": "IPY_MODEL_947ca4d5d28f41aa85eb6870c079f298",
            "placeholder": "​",
            "style": "IPY_MODEL_f8f56a3626204fe0900984aec80b1522",
            "value": " 5/5 [00:36&lt;00:00,  9.40s/it]"
          }
        },
        "6c66fa41224f4b69b5639a338d036c9a": {
          "model_module": "@jupyter-widgets/base",
          "model_name": "LayoutModel",
          "model_module_version": "1.2.0",
          "state": {
            "_model_module": "@jupyter-widgets/base",
            "_model_module_version": "1.2.0",
            "_model_name": "LayoutModel",
            "_view_count": null,
            "_view_module": "@jupyter-widgets/base",
            "_view_module_version": "1.2.0",
            "_view_name": "LayoutView",
            "align_content": null,
            "align_items": null,
            "align_self": null,
            "border": null,
            "bottom": null,
            "display": null,
            "flex": null,
            "flex_flow": null,
            "grid_area": null,
            "grid_auto_columns": null,
            "grid_auto_flow": null,
            "grid_auto_rows": null,
            "grid_column": null,
            "grid_gap": null,
            "grid_row": null,
            "grid_template_areas": null,
            "grid_template_columns": null,
            "grid_template_rows": null,
            "height": null,
            "justify_content": null,
            "justify_items": null,
            "left": null,
            "margin": null,
            "max_height": null,
            "max_width": null,
            "min_height": null,
            "min_width": null,
            "object_fit": null,
            "object_position": null,
            "order": null,
            "overflow": null,
            "overflow_x": null,
            "overflow_y": null,
            "padding": null,
            "right": null,
            "top": null,
            "visibility": null,
            "width": null
          }
        },
        "299912d3ac914840b7a712524bffc5f1": {
          "model_module": "@jupyter-widgets/base",
          "model_name": "LayoutModel",
          "model_module_version": "1.2.0",
          "state": {
            "_model_module": "@jupyter-widgets/base",
            "_model_module_version": "1.2.0",
            "_model_name": "LayoutModel",
            "_view_count": null,
            "_view_module": "@jupyter-widgets/base",
            "_view_module_version": "1.2.0",
            "_view_name": "LayoutView",
            "align_content": null,
            "align_items": null,
            "align_self": null,
            "border": null,
            "bottom": null,
            "display": null,
            "flex": null,
            "flex_flow": null,
            "grid_area": null,
            "grid_auto_columns": null,
            "grid_auto_flow": null,
            "grid_auto_rows": null,
            "grid_column": null,
            "grid_gap": null,
            "grid_row": null,
            "grid_template_areas": null,
            "grid_template_columns": null,
            "grid_template_rows": null,
            "height": null,
            "justify_content": null,
            "justify_items": null,
            "left": null,
            "margin": null,
            "max_height": null,
            "max_width": null,
            "min_height": null,
            "min_width": null,
            "object_fit": null,
            "object_position": null,
            "order": null,
            "overflow": null,
            "overflow_x": null,
            "overflow_y": null,
            "padding": null,
            "right": null,
            "top": null,
            "visibility": null,
            "width": null
          }
        },
        "1f72b50581d2479299733e4fc606bfcb": {
          "model_module": "@jupyter-widgets/controls",
          "model_name": "DescriptionStyleModel",
          "model_module_version": "1.5.0",
          "state": {
            "_model_module": "@jupyter-widgets/controls",
            "_model_module_version": "1.5.0",
            "_model_name": "DescriptionStyleModel",
            "_view_count": null,
            "_view_module": "@jupyter-widgets/base",
            "_view_module_version": "1.2.0",
            "_view_name": "StyleView",
            "description_width": ""
          }
        },
        "30fffa74e2d745f6ab82b0bed221a643": {
          "model_module": "@jupyter-widgets/base",
          "model_name": "LayoutModel",
          "model_module_version": "1.2.0",
          "state": {
            "_model_module": "@jupyter-widgets/base",
            "_model_module_version": "1.2.0",
            "_model_name": "LayoutModel",
            "_view_count": null,
            "_view_module": "@jupyter-widgets/base",
            "_view_module_version": "1.2.0",
            "_view_name": "LayoutView",
            "align_content": null,
            "align_items": null,
            "align_self": null,
            "border": null,
            "bottom": null,
            "display": null,
            "flex": null,
            "flex_flow": null,
            "grid_area": null,
            "grid_auto_columns": null,
            "grid_auto_flow": null,
            "grid_auto_rows": null,
            "grid_column": null,
            "grid_gap": null,
            "grid_row": null,
            "grid_template_areas": null,
            "grid_template_columns": null,
            "grid_template_rows": null,
            "height": null,
            "justify_content": null,
            "justify_items": null,
            "left": null,
            "margin": null,
            "max_height": null,
            "max_width": null,
            "min_height": null,
            "min_width": null,
            "object_fit": null,
            "object_position": null,
            "order": null,
            "overflow": null,
            "overflow_x": null,
            "overflow_y": null,
            "padding": null,
            "right": null,
            "top": null,
            "visibility": null,
            "width": null
          }
        },
        "735bdee117cb4b8eb95e96025388b29a": {
          "model_module": "@jupyter-widgets/controls",
          "model_name": "ProgressStyleModel",
          "model_module_version": "1.5.0",
          "state": {
            "_model_module": "@jupyter-widgets/controls",
            "_model_module_version": "1.5.0",
            "_model_name": "ProgressStyleModel",
            "_view_count": null,
            "_view_module": "@jupyter-widgets/base",
            "_view_module_version": "1.2.0",
            "_view_name": "StyleView",
            "bar_color": null,
            "description_width": ""
          }
        },
        "947ca4d5d28f41aa85eb6870c079f298": {
          "model_module": "@jupyter-widgets/base",
          "model_name": "LayoutModel",
          "model_module_version": "1.2.0",
          "state": {
            "_model_module": "@jupyter-widgets/base",
            "_model_module_version": "1.2.0",
            "_model_name": "LayoutModel",
            "_view_count": null,
            "_view_module": "@jupyter-widgets/base",
            "_view_module_version": "1.2.0",
            "_view_name": "LayoutView",
            "align_content": null,
            "align_items": null,
            "align_self": null,
            "border": null,
            "bottom": null,
            "display": null,
            "flex": null,
            "flex_flow": null,
            "grid_area": null,
            "grid_auto_columns": null,
            "grid_auto_flow": null,
            "grid_auto_rows": null,
            "grid_column": null,
            "grid_gap": null,
            "grid_row": null,
            "grid_template_areas": null,
            "grid_template_columns": null,
            "grid_template_rows": null,
            "height": null,
            "justify_content": null,
            "justify_items": null,
            "left": null,
            "margin": null,
            "max_height": null,
            "max_width": null,
            "min_height": null,
            "min_width": null,
            "object_fit": null,
            "object_position": null,
            "order": null,
            "overflow": null,
            "overflow_x": null,
            "overflow_y": null,
            "padding": null,
            "right": null,
            "top": null,
            "visibility": null,
            "width": null
          }
        },
        "f8f56a3626204fe0900984aec80b1522": {
          "model_module": "@jupyter-widgets/controls",
          "model_name": "DescriptionStyleModel",
          "model_module_version": "1.5.0",
          "state": {
            "_model_module": "@jupyter-widgets/controls",
            "_model_module_version": "1.5.0",
            "_model_name": "DescriptionStyleModel",
            "_view_count": null,
            "_view_module": "@jupyter-widgets/base",
            "_view_module_version": "1.2.0",
            "_view_name": "StyleView",
            "description_width": ""
          }
        }
      }
    }
  },
  "nbformat": 4,
  "nbformat_minor": 0
}